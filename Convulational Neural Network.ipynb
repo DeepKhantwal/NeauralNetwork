{
 "cells": [
  {
   "cell_type": "code",
   "execution_count": 3,
   "metadata": {},
   "outputs": [],
   "source": [
    "# Import Keras libraries and packages \n",
    "import pandas as pd\n",
    "import keras\n",
    "# Initialize Neural network\n",
    "from keras.models import Sequential\n",
    "# Create layers in ANN\n",
    "from keras.layers import Convolution2D\n",
    "from keras.layers import MaxPooling2D\n",
    "from keras.layers import Flatten\n",
    "from keras.layers import Dense"
   ]
  },
  {
   "cell_type": "code",
   "execution_count": 11,
   "metadata": {},
   "outputs": [
    {
     "name": "stderr",
     "output_type": "stream",
     "text": [
      "C:\\Users\\ksa\\Anaconda3\\lib\\site-packages\\ipykernel_launcher.py:10: UserWarning: Update your `Conv2D` call to the Keras 2 API: `Conv2D(32, (3, 3), input_shape=(64, 64, 3..., activation=\"relu\")`\n",
      "  # Remove the CWD from sys.path while we load stuff.\n",
      "C:\\Users\\ksa\\Anaconda3\\lib\\site-packages\\ipykernel_launcher.py:20: UserWarning: Update your `Dense` call to the Keras 2 API: `Dense(activation=\"relu\", units=128)`\n",
      "C:\\Users\\ksa\\Anaconda3\\lib\\site-packages\\ipykernel_launcher.py:21: UserWarning: Update your `Dense` call to the Keras 2 API: `Dense(activation=\"sigmoid\", units=1)`\n"
     ]
    }
   ],
   "source": [
    "# STEP1\n",
    "# ADD SEQUENTIAL INSTANCE\n",
    "classifier = Sequential()\n",
    "\n",
    "# STEP2\n",
    "#Layer 1 -  CREATE CONVULATION LAYER\n",
    "# feature detector (start with 32 and then move on to 64, 128 etc. with 3 by 3 dimensions)\n",
    "# input shape - shape of all images (making it consistent to 64 by 64 and use 3 for colored pictures and 1 for black n white)\n",
    "\n",
    "classifier.add(Convolution2D(32, 3, 3, input_shape = (64, 64, 3), activation = 'relu'))\n",
    "\n",
    "# Layer 2 - Create Maxpooling Layer\n",
    "# Pool_size = row and col size of the pool matrix\n",
    "classifier.add(MaxPooling2D(pool_size = (2,2)))\n",
    "\n",
    "# ADD SECOND CONVULATIONAL LAYER IF THE TRAINING AND VAL ACCURACY DROPS - Code commented as of now\n",
    "# classifier.add(Convolution2D(32, 3, 3, activation = 'relu'))\n",
    "# classifier.add(MaxPooling2D(pool_size = (2,2)))\n",
    "\n",
    "# Layer 3  - Create Flattening layer\n",
    "classifier.add(Flatten())\n",
    "\n",
    "#Layer 4 - Fully Connected Layer\n",
    "classifier.add(Dense(output_dim = 128, activation = 'relu'))\n",
    "classifier.add(Dense(output_dim = 1, activation = 'sigmoid'))\n",
    "\n",
    "# STEP3\n",
    "# Compile the CNN\n",
    "classifier.compile(optimizer = 'adam', loss = 'binary_crossentropy', metrics = ['accuracy'])\n"
   ]
  },
  {
   "cell_type": "code",
   "execution_count": 13,
   "metadata": {},
   "outputs": [
    {
     "name": "stdout",
     "output_type": "stream",
     "text": [
      "Found 8000 images belonging to 2 classes.\n",
      "Found 2000 images belonging to 2 classes.\n"
     ]
    }
   ],
   "source": [
    "# Creating training and test data \n",
    "# Code copied from https://keras.io/preprocessing/image/#imagedatagenerator-class\n",
    "from keras.preprocessing.image import ImageDataGenerator\n",
    "\n",
    "train_datagen = ImageDataGenerator(\n",
    "        rescale=1./255,\n",
    "        shear_range=0.2,\n",
    "        zoom_range=0.2,\n",
    "        horizontal_flip=True)\n",
    "\n",
    "test_datagen = ImageDataGenerator(rescale=1./255)\n",
    "\n",
    "# target size should be same as input_shape in the above code i.e. 64 by 64\n",
    "# batch size = size of batch or images that should pass through in one set befor the weights are updated\n",
    "# class_mode = binary since we need to classify two classes here (cats or dogs)\n",
    "training_set = train_datagen.flow_from_directory('C:/Users/ksa/Documents/Machine Learning A-Z/Machine Learning A-Z/Machine Learning A-Z New/Part 8 - Deep Learning/Section 40 - Convolutional Neural Networks (CNN)/dataset/training_set',\n",
    "                                                target_size=(64, 64),\n",
    "                                                batch_size=32,\n",
    "                                                class_mode='binary')\n",
    "\n",
    "# Creating the test set same way as the training set\n",
    "test_set = test_datagen.flow_from_directory('C:/Users/ksa/Documents/Machine Learning A-Z/Machine Learning A-Z/Machine Learning A-Z New/Part 8 - Deep Learning/Section 40 - Convolutional Neural Networks (CNN)/dataset/test_set',\n",
    "                                            target_size=(64, 64),\n",
    "                                            batch_size=32,\n",
    "                                            class_mode='binary')\n",
    "\n"
   ]
  },
  {
   "cell_type": "code",
   "execution_count": null,
   "metadata": {},
   "outputs": [
    {
     "name": "stdout",
     "output_type": "stream",
     "text": [
      "Epoch 1/5\n",
      "8000/8000 [==============================] - 3063s 383ms/step - loss: 0.1292 - accuracy: 0.9504 - val_loss: 1.3216 - val_accuracy: 0.7659\n",
      "Epoch 2/5\n",
      "6828/8000 [========================>.....] - ETA: 6:34 - loss: 0.0771 - accuracy: 0.9725"
     ]
    }
   ],
   "source": [
    "# Fitting the model and testing\n",
    "# steps per epoch = number of images in training set (4000 cats + 4000 dogs)\n",
    "# validation steps = number of images in test set (1000 cats + 1000 dogs)\n",
    "classifier.fit_generator(\n",
    "        training_set,\n",
    "        steps_per_epoch=8000,\n",
    "        epochs=5,\n",
    "        validation_data=test_set,\n",
    "        validation_steps=2000)"
   ]
  },
  {
   "cell_type": "code",
   "execution_count": null,
   "metadata": {},
   "outputs": [],
   "source": []
  }
 ],
 "metadata": {
  "kernelspec": {
   "display_name": "Python 3",
   "language": "python",
   "name": "python3"
  },
  "language_info": {
   "codemirror_mode": {
    "name": "ipython",
    "version": 3
   },
   "file_extension": ".py",
   "mimetype": "text/x-python",
   "name": "python",
   "nbconvert_exporter": "python",
   "pygments_lexer": "ipython3",
   "version": "3.7.6"
  }
 },
 "nbformat": 4,
 "nbformat_minor": 4
}
