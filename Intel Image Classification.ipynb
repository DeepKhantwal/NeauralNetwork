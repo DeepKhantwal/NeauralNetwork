{
 "cells": [
  {
   "cell_type": "code",
   "execution_count": 102,
   "metadata": {},
   "outputs": [],
   "source": [
    "# Import Keras libraries and packages \n",
    "import pandas as pd\n",
    "import keras\n",
    "# Initialize Neural network\n",
    "from keras.models import Sequential\n",
    "# Create layers in ANN\n",
    "from keras.layers import Convolution2D, BatchNormalization\n",
    "from keras.layers import MaxPooling2D\n",
    "from keras.layers import Flatten\n",
    "from keras.layers import Dense"
   ]
  },
  {
   "cell_type": "code",
   "execution_count": 34,
   "metadata": {},
   "outputs": [
    {
     "name": "stderr",
     "output_type": "stream",
     "text": [
      "C:\\Users\\ksa\\Anaconda3\\lib\\site-packages\\ipykernel_launcher.py:19: UserWarning: Update your `Conv2D` call to the Keras 2 API: `Conv2D(32, (3, 3), input_shape=(64, 64, 3..., activation=\"relu\")`\n",
      "C:\\Users\\ksa\\Anaconda3\\lib\\site-packages\\ipykernel_launcher.py:26: UserWarning: Update your `Conv2D` call to the Keras 2 API: `Conv2D(32, (3, 3), activation=\"relu\")`\n",
      "C:\\Users\\ksa\\Anaconda3\\lib\\site-packages\\ipykernel_launcher.py:33: UserWarning: Update your `Dense` call to the Keras 2 API: `Dense(activation=\"relu\", units=128)`\n",
      "C:\\Users\\ksa\\Anaconda3\\lib\\site-packages\\ipykernel_launcher.py:34: UserWarning: Update your `Dense` call to the Keras 2 API: `Dense(activation=\"softmax\", units=6)`\n"
     ]
    },
    {
     "name": "stdout",
     "output_type": "stream",
     "text": [
      "Model: \"sequential_8\"\n",
      "_________________________________________________________________\n",
      "Layer (type)                 Output Shape              Param #   \n",
      "=================================================================\n",
      "conv2d_15 (Conv2D)           (None, 62, 62, 32)        896       \n",
      "_________________________________________________________________\n",
      "max_pooling2d_15 (MaxPooling (None, 31, 31, 32)        0         \n",
      "_________________________________________________________________\n",
      "conv2d_16 (Conv2D)           (None, 29, 29, 32)        9248      \n",
      "_________________________________________________________________\n",
      "max_pooling2d_16 (MaxPooling (None, 14, 14, 32)        0         \n",
      "_________________________________________________________________\n",
      "flatten_8 (Flatten)          (None, 6272)              0         \n",
      "_________________________________________________________________\n",
      "dense_15 (Dense)             (None, 128)               802944    \n",
      "_________________________________________________________________\n",
      "dense_16 (Dense)             (None, 6)                 774       \n",
      "=================================================================\n",
      "Total params: 813,862\n",
      "Trainable params: 813,862\n",
      "Non-trainable params: 0\n",
      "_________________________________________________________________\n"
     ]
    }
   ],
   "source": [
    "from keras.metrics import *\n",
    "\n",
    "METRICS = [\n",
    "      BinaryAccuracy(name='accuracy'),\n",
    "      Precision(name='precision'),\n",
    "      Recall(name='recall'),\n",
    "      AUC(name='auc'),\n",
    "]\n",
    "\n",
    "# STEP1\n",
    "# ADD SEQUENTIAL INSTANCE\n",
    "classifier = Sequential()\n",
    "\n",
    "# STEP2\n",
    "#Layer 1 -  CREATE CONVULATION LAYER\n",
    "# feature detector (start with 32 and then move on to 64, 128 etc. with 3 by 3 dimensions)\n",
    "# input shape - shape of all images (making it consistent to 64 by 64 and use 3 for colored pictures and 1 for black n white)\n",
    "\n",
    "classifier.add(Convolution2D(32, 3, 3, input_shape = (64, 64, 3), activation = 'relu'))\n",
    "\n",
    "# Layer 2 - Create Maxpooling Layer\n",
    "# Pool_size = row and col size of the pool matrix\n",
    "classifier.add(MaxPooling2D(pool_size = (2,2)))\n",
    "\n",
    "# ADD SECOND CONVULATIONAL LAYER IF THE TRAINING AND VAL ACCURACY DROPS - Code commented as of now\n",
    "classifier.add(Convolution2D(32, 3, 3, activation = 'relu'))\n",
    "classifier.add(MaxPooling2D(pool_size = (2,2)))\n",
    "\n",
    "# Layer 3  - Create Flattening layer\n",
    "classifier.add(Flatten())\n",
    "\n",
    "#Layer 4 - Fully Connected Layer\n",
    "classifier.add(Dense(output_dim = 128, activation = 'relu'))\n",
    "classifier.add(Dense(output_dim = 6, activation = 'softmax'))\n",
    "\n",
    "# STEP3\n",
    "# Compile the CNN\n",
    "from keras.optimizers import Adam, SGD, RMSprop\n",
    "\n",
    "optimizer = Adam(lr=0.0001, decay=1e-5)\n",
    "classifier.compile(optimizer = optimizer , loss = 'categorical_crossentropy', metrics = METRICS)\n",
    "\n",
    "classifier.summary()\n"
   ]
  },
  {
   "cell_type": "code",
   "execution_count": 164,
   "metadata": {},
   "outputs": [
    {
     "name": "stdout",
     "output_type": "stream",
     "text": [
      "Found 14034 images belonging to 6 classes.\n",
      "Found 3000 images belonging to 6 classes.\n",
      "Found 7301 images belonging to 1 classes.\n"
     ]
    }
   ],
   "source": [
    "img_width = 64\n",
    "img_height = 64\n",
    "\n",
    "\n",
    "# Creating training and test data \n",
    "# Code copied from https://keras.io/preprocessing/image/#imagedatagenerator-class\n",
    "from keras.preprocessing.image import ImageDataGenerator\n",
    "\n",
    "train_datagen = ImageDataGenerator(\n",
    "        rescale=1./255,\n",
    "        shear_range=0.2,\n",
    "        zoom_range=0.2,\n",
    "        horizontal_flip=True)\n",
    "\n",
    "test_datagen = ImageDataGenerator(rescale=1./255)\n",
    "\n",
    "pred_datagen = ImageDataGenerator(rescale=1./255)\n",
    "\n",
    "# target size should be same as input_shape in the above code i.e. 64 by 64\n",
    "# batch size = size of batch or images that should pass through in one set befor the weights are updated\n",
    "training_set = train_datagen.flow_from_directory('C:/Users/ksa/Downloads/intel-image-classification/seg_train/seg_train',\n",
    "                                                target_size=(img_width, img_height),\n",
    "                                                batch_size=32,\n",
    "                                                class_mode='categorical')\n",
    "\n",
    "# Creating the test set same way as the training set\n",
    "test_set = test_datagen.flow_from_directory('C:/Users/ksa/Downloads/intel-image-classification/seg_test/seg_test',\n",
    "                                            target_size=(img_width, img_height),\n",
    "                                            batch_size=32,\n",
    "                                            shuffle = False,\n",
    "                                            class_mode='categorical')\n",
    "\n",
    "# Creating the test set same way as the predictions set\n",
    "pred_set = pred_datagen.flow_from_directory('C:/Users/ksa/Downloads/intel-image-classification/seg_pred/seg_pred/',\n",
    "                                            target_size=(img_width, img_height),\n",
    "                                            batch_size=32,\n",
    "                                            class_mode=None)\n",
    "\n"
   ]
  },
  {
   "cell_type": "code",
   "execution_count": 66,
   "metadata": {},
   "outputs": [],
   "source": [
    "STEP_SIZE_TRAIN=training_set.n//training_set.batch_size\n",
    "STEP_SIZE_TEST=test_set.n//test_set.batch_size\n",
    "STEP_SIZE_PRED=pred_set.n//pred_set.batch_size\n"
   ]
  },
  {
   "cell_type": "code",
   "execution_count": 35,
   "metadata": {},
   "outputs": [
    {
     "name": "stdout",
     "output_type": "stream",
     "text": [
      "Epoch 1/5\n",
      "438/438 [==============================] - 90s 205ms/step - loss: 1.2131 - accuracy: 0.8649 - precision: 0.7610 - recall: 0.2763 - auc: 0.8509 - val_loss: 1.3236 - val_accuracy: 0.8674 - val_precision: 0.6614 - val_recall: 0.4187 - val_auc: 0.8575\n",
      "Epoch 2/5\n",
      "438/438 [==============================] - 92s 210ms/step - loss: 0.9687 - accuracy: 0.8876 - precision: 0.7697 - recall: 0.4643 - auc: 0.9069 - val_loss: 0.7447 - val_accuracy: 0.8890 - val_precision: 0.7383 - val_recall: 0.5172 - val_auc: 0.9023\n",
      "Epoch 3/5\n",
      "438/438 [==============================] - 92s 211ms/step - loss: 0.8861 - accuracy: 0.8961 - precision: 0.7845 - recall: 0.5190 - auc: 0.9224 - val_loss: 0.8496 - val_accuracy: 0.8929 - val_precision: 0.7353 - val_recall: 0.5580 - val_auc: 0.9158\n",
      "Epoch 4/5\n",
      "438/438 [==============================] - 92s 210ms/step - loss: 0.8363 - accuracy: 0.9015 - precision: 0.7872 - recall: 0.5603 - auc: 0.9308 - val_loss: 0.9262 - val_accuracy: 0.9043 - val_precision: 0.7777 - val_recall: 0.5964 - val_auc: 0.9323\n",
      "Epoch 5/5\n",
      "438/438 [==============================] - 93s 211ms/step - loss: 0.7972 - accuracy: 0.9058 - precision: 0.7938 - recall: 0.5873 - auc: 0.9370 - val_loss: 1.1198 - val_accuracy: 0.9120 - val_precision: 0.7980 - val_recall: 0.6321 - val_auc: 0.9393\n"
     ]
    },
    {
     "data": {
      "text/plain": [
       "<keras.callbacks.callbacks.History at 0x171a57699c8>"
      ]
     },
     "execution_count": 35,
     "metadata": {},
     "output_type": "execute_result"
    }
   ],
   "source": [
    "classifier.fit_generator(generator=training_set,\n",
    "                    steps_per_epoch=STEP_SIZE_TRAIN,\n",
    "                    validation_data=test_set,\n",
    "                    validation_steps=STEP_SIZE_TEST,\n",
    "                    epochs=5\n",
    ")"
   ]
  },
  {
   "cell_type": "markdown",
   "metadata": {},
   "source": [
    "## Transfer learning - VGG16"
   ]
  },
  {
   "cell_type": "code",
   "execution_count": 36,
   "metadata": {},
   "outputs": [],
   "source": [
    "from keras.applications.vgg16 import VGG16\n",
    "from keras.preprocessing import image\n",
    "from keras.applications.vgg16 import preprocess_input\n",
    "from keras.models import Sequential, Model \n",
    "from keras.layers import Dropout, Flatten, Dense\n",
    "\n",
    "import numpy as np"
   ]
  },
  {
   "cell_type": "code",
   "execution_count": 92,
   "metadata": {},
   "outputs": [],
   "source": [
    "img_width, img_height = 64, 64\n",
    "vgg16 = VGG16(include_top=False, weights='imagenet', input_shape=(img_width, img_height, 3))"
   ]
  },
  {
   "cell_type": "code",
   "execution_count": 93,
   "metadata": {},
   "outputs": [
    {
     "name": "stdout",
     "output_type": "stream",
     "text": [
      "Model: \"vgg16\"\n",
      "_________________________________________________________________\n",
      "Layer (type)                 Output Shape              Param #   \n",
      "=================================================================\n",
      "input_5 (InputLayer)         (None, 64, 64, 3)         0         \n",
      "_________________________________________________________________\n",
      "block1_conv1 (Conv2D)        (None, 64, 64, 64)        1792      \n",
      "_________________________________________________________________\n",
      "block1_conv2 (Conv2D)        (None, 64, 64, 64)        36928     \n",
      "_________________________________________________________________\n",
      "block1_pool (MaxPooling2D)   (None, 32, 32, 64)        0         \n",
      "_________________________________________________________________\n",
      "block2_conv1 (Conv2D)        (None, 32, 32, 128)       73856     \n",
      "_________________________________________________________________\n",
      "block2_conv2 (Conv2D)        (None, 32, 32, 128)       147584    \n",
      "_________________________________________________________________\n",
      "block2_pool (MaxPooling2D)   (None, 16, 16, 128)       0         \n",
      "_________________________________________________________________\n",
      "block3_conv1 (Conv2D)        (None, 16, 16, 256)       295168    \n",
      "_________________________________________________________________\n",
      "block3_conv2 (Conv2D)        (None, 16, 16, 256)       590080    \n",
      "_________________________________________________________________\n",
      "block3_conv3 (Conv2D)        (None, 16, 16, 256)       590080    \n",
      "_________________________________________________________________\n",
      "block3_pool (MaxPooling2D)   (None, 8, 8, 256)         0         \n",
      "_________________________________________________________________\n",
      "block4_conv1 (Conv2D)        (None, 8, 8, 512)         1180160   \n",
      "_________________________________________________________________\n",
      "block4_conv2 (Conv2D)        (None, 8, 8, 512)         2359808   \n",
      "_________________________________________________________________\n",
      "block4_conv3 (Conv2D)        (None, 8, 8, 512)         2359808   \n",
      "_________________________________________________________________\n",
      "block4_pool (MaxPooling2D)   (None, 4, 4, 512)         0         \n",
      "_________________________________________________________________\n",
      "block5_conv1 (Conv2D)        (None, 4, 4, 512)         2359808   \n",
      "_________________________________________________________________\n",
      "block5_conv2 (Conv2D)        (None, 4, 4, 512)         2359808   \n",
      "_________________________________________________________________\n",
      "block5_conv3 (Conv2D)        (None, 4, 4, 512)         2359808   \n",
      "_________________________________________________________________\n",
      "block5_pool (MaxPooling2D)   (None, 2, 2, 512)         0         \n",
      "=================================================================\n",
      "Total params: 14,714,688\n",
      "Trainable params: 14,714,688\n",
      "Non-trainable params: 0\n",
      "_________________________________________________________________\n"
     ]
    }
   ],
   "source": [
    "vgg16.summary()"
   ]
  },
  {
   "cell_type": "code",
   "execution_count": 90,
   "metadata": {},
   "outputs": [
    {
     "name": "stdout",
     "output_type": "stream",
     "text": [
      "Model: \"sequential_15\"\n",
      "_________________________________________________________________\n",
      "Layer (type)                 Output Shape              Param #   \n",
      "=================================================================\n",
      "vgg16 (Model)                (None, 7, 7, 512)         14714688  \n",
      "_________________________________________________________________\n",
      "dense_32 (Dense)             (None, 7, 7, 256)         131328    \n",
      "_________________________________________________________________\n",
      "dense_33 (Dense)             (None, 7, 7, 256)         65792     \n",
      "_________________________________________________________________\n",
      "dense_34 (Dense)             (None, 7, 7, 6)           1542      \n",
      "=================================================================\n",
      "Total params: 14,913,350\n",
      "Trainable params: 198,662\n",
      "Non-trainable params: 14,714,688\n",
      "_________________________________________________________________\n"
     ]
    }
   ],
   "source": [
    "for layer in vgg16.layers:\n",
    "  layer.trainable=False\n",
    "\n",
    "top_model = Sequential()\n",
    "top_model.add(Flatten(input_shape=bottleneck_train.shape[1:]))\n",
    "top_model.add(Dense(256, activation='relu'))\n",
    "top_model.add(Dropout(0.5))\n",
    "top_model.add(Dense(1, activation='sigmoid'))\n",
    "    \n",
    "model = Sequential()\n",
    "model.add(vgg16)\n",
    "model.add(Dense(256, activation='relu', input_dim=(img_width, img_height, 3)))\n",
    "model.add(Dense(256, activation='relu'))\n",
    "model.add(Dense(6, activation='softmax')) \n",
    "model.compile(loss='categorical_crossentropy',\n",
    "          optimizer=Adam(lr = 1e-6),\n",
    "          metrics = METRICS)\n",
    "\n",
    "for layer in model.layers[-2:]:\n",
    "  layer.trainable=True\n",
    "\n",
    "model.summary()"
   ]
  },
  {
   "cell_type": "code",
   "execution_count": 94,
   "metadata": {},
   "outputs": [
    {
     "name": "stdout",
     "output_type": "stream",
     "text": [
      "Model: \"model_12\"\n",
      "_________________________________________________________________\n",
      "Layer (type)                 Output Shape              Param #   \n",
      "=================================================================\n",
      "input_5 (InputLayer)         (None, 64, 64, 3)         0         \n",
      "_________________________________________________________________\n",
      "block1_conv1 (Conv2D)        (None, 64, 64, 64)        1792      \n",
      "_________________________________________________________________\n",
      "block1_conv2 (Conv2D)        (None, 64, 64, 64)        36928     \n",
      "_________________________________________________________________\n",
      "block1_pool (MaxPooling2D)   (None, 32, 32, 64)        0         \n",
      "_________________________________________________________________\n",
      "block2_conv1 (Conv2D)        (None, 32, 32, 128)       73856     \n",
      "_________________________________________________________________\n",
      "block2_conv2 (Conv2D)        (None, 32, 32, 128)       147584    \n",
      "_________________________________________________________________\n",
      "block2_pool (MaxPooling2D)   (None, 16, 16, 128)       0         \n",
      "_________________________________________________________________\n",
      "block3_conv1 (Conv2D)        (None, 16, 16, 256)       295168    \n",
      "_________________________________________________________________\n",
      "block3_conv2 (Conv2D)        (None, 16, 16, 256)       590080    \n",
      "_________________________________________________________________\n",
      "block3_conv3 (Conv2D)        (None, 16, 16, 256)       590080    \n",
      "_________________________________________________________________\n",
      "block3_pool (MaxPooling2D)   (None, 8, 8, 256)         0         \n",
      "_________________________________________________________________\n",
      "block4_conv1 (Conv2D)        (None, 8, 8, 512)         1180160   \n",
      "_________________________________________________________________\n",
      "block4_conv2 (Conv2D)        (None, 8, 8, 512)         2359808   \n",
      "_________________________________________________________________\n",
      "block4_conv3 (Conv2D)        (None, 8, 8, 512)         2359808   \n",
      "_________________________________________________________________\n",
      "block4_pool (MaxPooling2D)   (None, 4, 4, 512)         0         \n",
      "_________________________________________________________________\n",
      "block5_conv1 (Conv2D)        (None, 4, 4, 512)         2359808   \n",
      "_________________________________________________________________\n",
      "block5_conv2 (Conv2D)        (None, 4, 4, 512)         2359808   \n",
      "_________________________________________________________________\n",
      "block5_conv3 (Conv2D)        (None, 4, 4, 512)         2359808   \n",
      "_________________________________________________________________\n",
      "block5_pool (MaxPooling2D)   (None, 2, 2, 512)         0         \n",
      "_________________________________________________________________\n",
      "flatten (Flatten)            (None, 2048)              0         \n",
      "_________________________________________________________________\n",
      "predictions (Dense)          (None, 6)                 12294     \n",
      "=================================================================\n",
      "Total params: 14,726,982\n",
      "Trainable params: 12,294\n",
      "Non-trainable params: 14,714,688\n",
      "_________________________________________________________________\n"
     ]
    },
    {
     "name": "stderr",
     "output_type": "stream",
     "text": [
      "C:\\Users\\ksa\\Anaconda3\\lib\\site-packages\\ipykernel_launcher.py:16: UserWarning: Update your `Model` call to the Keras 2 API: `Model(inputs=Tensor(\"in..., outputs=Tensor(\"pr...)`\n",
      "  app.launch_new_instance()\n"
     ]
    }
   ],
   "source": [
    "# use transfer learning for re-training the last layers\n",
    "# Freeze first 25 layers, so that we can retrain 26th and so on using our classes.\n",
    "# for layer in vgg16.layers[:-2]:\n",
    "#    layer.trainable = False\n",
    "\n",
    "for layer in vgg16.layers:\n",
    "  layer.trainable=False\n",
    "\n",
    "\n",
    "#Add a layer where input is the output of the  second last layer \n",
    "Z = Flatten(name='flatten')(vgg16.layers[-1].output)\n",
    "New = Dense(6, activation='softmax', name='predictions')(Z)\n",
    "\n",
    "\n",
    "#Then create the corresponding model \n",
    "model = Model(input=vgg16.input, output=New)\n",
    "\n",
    "for layer in model.layers[-1:]:\n",
    "  layer.trainable=True\n",
    "\n",
    "model.summary()"
   ]
  },
  {
   "cell_type": "code",
   "execution_count": 104,
   "metadata": {},
   "outputs": [
    {
     "name": "stdout",
     "output_type": "stream",
     "text": [
      "<keras.engine.input_layer.InputLayer object at 0x000001718193CDC8> False\n",
      "<keras.layers.convolutional.Conv2D object at 0x0000017180E93D88> False\n",
      "<keras.layers.convolutional.Conv2D object at 0x0000017181BBD8C8> False\n",
      "<keras.layers.pooling.MaxPooling2D object at 0x000001718206C488> False\n",
      "<keras.layers.convolutional.Conv2D object at 0x00000171820596C8> False\n",
      "<keras.layers.convolutional.Conv2D object at 0x000001718208DB08> False\n",
      "<keras.layers.pooling.MaxPooling2D object at 0x00000171820C8448> False\n",
      "<keras.layers.convolutional.Conv2D object at 0x00000171820C83C8> False\n",
      "<keras.layers.convolutional.Conv2D object at 0x00000171820F6848> False\n",
      "<keras.layers.convolutional.Conv2D object at 0x0000017182506388> False\n",
      "<keras.layers.pooling.MaxPooling2D object at 0x0000017180054588> False\n",
      "<keras.layers.convolutional.Conv2D object at 0x0000017180035108> False\n",
      "<keras.layers.convolutional.Conv2D object at 0x0000017180113488> False\n",
      "<keras.layers.convolutional.Conv2D object at 0x00000171B3A31048> False\n",
      "<keras.layers.pooling.MaxPooling2D object at 0x0000017181077F08> False\n",
      "<keras.layers.convolutional.Conv2D object at 0x0000017181830348> False\n",
      "<keras.layers.convolutional.Conv2D object at 0x00000171A0775988> False\n",
      "<keras.layers.convolutional.Conv2D object at 0x00000171BF8B6508> False\n",
      "<keras.layers.pooling.MaxPooling2D object at 0x00000171BFB12388> False\n",
      "<keras.layers.core.Flatten object at 0x0000017189205DC8> True\n",
      "<keras.layers.normalization.BatchNormalization object at 0x0000017189205E08> True\n",
      "<keras.layers.core.Dropout object at 0x0000017189205FC8> True\n",
      "<keras.layers.core.Dense object at 0x00000171BFB28788> True\n"
     ]
    }
   ],
   "source": [
    "# Check the trainable status of the individual layers\n",
    "for layer in model.layers:\n",
    "    print(layer, layer.trainable)\n"
   ]
  },
  {
   "cell_type": "code",
   "execution_count": 96,
   "metadata": {},
   "outputs": [],
   "source": [
    "from keras.metrics import *\n",
    "\n",
    "METRICS = [\n",
    "      BinaryAccuracy(name='accuracy'),\n",
    "      Precision(name='precision'),\n",
    "      Recall(name='recall'),\n",
    "      AUC(name='auc'),\n",
    "]\n",
    "# my_model.compile(loss = \"binary_crossentropy\", optimizer = optimizers.SGD(lr=0.0001, momentum=0.9), metrics=METRICS)\n",
    "from keras.optimizers import Adam, SGD, RMSprop\n",
    "\n",
    "optimizer = SGD(lr=0.01)\n",
    "\n",
    "model.compile(loss = \"categorical_crossentropy\", optimizer = optimizer, metrics=METRICS)"
   ]
  },
  {
   "cell_type": "code",
   "execution_count": 97,
   "metadata": {},
   "outputs": [
    {
     "name": "stdout",
     "output_type": "stream",
     "text": [
      "Epoch 1/5\n",
      "438/438 [==============================] - 532s 1s/step - loss: 0.9329 - accuracy: 0.8922 - precision: 0.8144 - recall: 0.4571 - auc: 0.9199 - val_loss: 0.7017 - val_accuracy: 0.9217 - val_precision: 0.8403 - val_recall: 0.6542 - val_auc: 0.9576\n",
      "Epoch 2/5\n",
      "438/438 [==============================] - 527s 1s/step - loss: 0.6856 - accuracy: 0.9206 - precision: 0.8230 - recall: 0.6669 - auc: 0.9543 - val_loss: 0.5162 - val_accuracy: 0.9225 - val_precision: 0.8135 - val_recall: 0.6937 - val_auc: 0.9587\n",
      "Epoch 3/5\n",
      "438/438 [==============================] - 523s 1s/step - loss: 0.6383 - accuracy: 0.9252 - precision: 0.8262 - recall: 0.6978 - auc: 0.9595 - val_loss: 0.6546 - val_accuracy: 0.9308 - val_precision: 0.8390 - val_recall: 0.7234 - val_auc: 0.9653\n",
      "Epoch 4/5\n",
      "438/438 [==============================] - 526s 1s/step - loss: 0.6108 - accuracy: 0.9285 - precision: 0.8299 - recall: 0.7185 - auc: 0.9626 - val_loss: 0.4734 - val_accuracy: 0.9358 - val_precision: 0.8519 - val_recall: 0.7443 - val_auc: 0.9686\n",
      "Epoch 5/5\n",
      "438/438 [==============================] - 533s 1s/step - loss: 0.5906 - accuracy: 0.9300 - precision: 0.8338 - recall: 0.7246 - auc: 0.9648 - val_loss: 0.5243 - val_accuracy: 0.9353 - val_precision: 0.8431 - val_recall: 0.7513 - val_auc: 0.9701\n"
     ]
    },
    {
     "data": {
      "text/plain": [
       "<keras.callbacks.callbacks.History at 0x171bf95c708>"
      ]
     },
     "execution_count": 97,
     "metadata": {},
     "output_type": "execute_result"
    }
   ],
   "source": [
    "model.fit_generator(generator=training_set,\n",
    "                    steps_per_epoch=STEP_SIZE_TRAIN,\n",
    "                    validation_data=test_set,\n",
    "                    validation_steps=STEP_SIZE_TEST,\n",
    "                    epochs=5\n",
    ")"
   ]
  },
  {
   "cell_type": "markdown",
   "metadata": {},
   "source": [
    "## Transfer learning - with BatchNormalization and Dropout layers (to improve acc)"
   ]
  },
  {
   "cell_type": "code",
   "execution_count": 106,
   "metadata": {},
   "outputs": [
    {
     "name": "stdout",
     "output_type": "stream",
     "text": [
      "Model: \"model_14\"\n",
      "_________________________________________________________________\n",
      "Layer (type)                 Output Shape              Param #   \n",
      "=================================================================\n",
      "input_5 (InputLayer)         (None, 64, 64, 3)         0         \n",
      "_________________________________________________________________\n",
      "block1_conv1 (Conv2D)        (None, 64, 64, 64)        1792      \n",
      "_________________________________________________________________\n",
      "block1_conv2 (Conv2D)        (None, 64, 64, 64)        36928     \n",
      "_________________________________________________________________\n",
      "block1_pool (MaxPooling2D)   (None, 32, 32, 64)        0         \n",
      "_________________________________________________________________\n",
      "block2_conv1 (Conv2D)        (None, 32, 32, 128)       73856     \n",
      "_________________________________________________________________\n",
      "block2_conv2 (Conv2D)        (None, 32, 32, 128)       147584    \n",
      "_________________________________________________________________\n",
      "block2_pool (MaxPooling2D)   (None, 16, 16, 128)       0         \n",
      "_________________________________________________________________\n",
      "block3_conv1 (Conv2D)        (None, 16, 16, 256)       295168    \n",
      "_________________________________________________________________\n",
      "block3_conv2 (Conv2D)        (None, 16, 16, 256)       590080    \n",
      "_________________________________________________________________\n",
      "block3_conv3 (Conv2D)        (None, 16, 16, 256)       590080    \n",
      "_________________________________________________________________\n",
      "block3_pool (MaxPooling2D)   (None, 8, 8, 256)         0         \n",
      "_________________________________________________________________\n",
      "block4_conv1 (Conv2D)        (None, 8, 8, 512)         1180160   \n",
      "_________________________________________________________________\n",
      "block4_conv2 (Conv2D)        (None, 8, 8, 512)         2359808   \n",
      "_________________________________________________________________\n",
      "block4_conv3 (Conv2D)        (None, 8, 8, 512)         2359808   \n",
      "_________________________________________________________________\n",
      "block4_pool (MaxPooling2D)   (None, 4, 4, 512)         0         \n",
      "_________________________________________________________________\n",
      "block5_conv1 (Conv2D)        (None, 4, 4, 512)         2359808   \n",
      "_________________________________________________________________\n",
      "block5_conv2 (Conv2D)        (None, 4, 4, 512)         2359808   \n",
      "_________________________________________________________________\n",
      "block5_conv3 (Conv2D)        (None, 4, 4, 512)         2359808   \n",
      "_________________________________________________________________\n",
      "block5_pool (MaxPooling2D)   (None, 2, 2, 512)         0         \n",
      "_________________________________________________________________\n",
      "flatten (Flatten)            (None, 2048)              0         \n",
      "_________________________________________________________________\n",
      "BN (BatchNormalization)      (None, 2048)              8192      \n",
      "_________________________________________________________________\n",
      "dropout_2 (Dropout)          (None, 2048)              0         \n",
      "_________________________________________________________________\n",
      "predictions (Dense)          (None, 6)                 12294     \n",
      "=================================================================\n",
      "Total params: 14,735,174\n",
      "Trainable params: 16,390\n",
      "Non-trainable params: 14,718,784\n",
      "_________________________________________________________________\n"
     ]
    },
    {
     "name": "stderr",
     "output_type": "stream",
     "text": [
      "C:\\Users\\ksa\\Anaconda3\\lib\\site-packages\\ipykernel_launcher.py:18: UserWarning: Update your `Model` call to the Keras 2 API: `Model(inputs=Tensor(\"in..., outputs=Tensor(\"pr...)`\n"
     ]
    }
   ],
   "source": [
    "# use transfer learning for re-training the last layers\n",
    "# Freeze first 25 layers, so that we can retrain 26th and so on using our classes.\n",
    "# for layer in vgg16.layers[:-2]:\n",
    "#    layer.trainable = False\n",
    "\n",
    "for layer in vgg16.layers:\n",
    "  layer.trainable=False\n",
    "\n",
    "\n",
    "#Add flatter, BN, Dropout and Dense output layers-  where input is the output of the  second last layer \n",
    "Z = Flatten(name='flatten')(vgg16.layers[-1].output)\n",
    "Z = BatchNormalization(name = 'BN')(Z)\n",
    "Z = Dropout(0.5)(Z)\n",
    "New = Dense(6, activation='softmax', name='predictions')(Z)\n",
    "\n",
    "\n",
    "#Then create the corresponding model \n",
    "model = Model(input=vgg16.input, output=New)\n",
    "\n",
    "for layer in model.layers[-1:]:\n",
    "  layer.trainable=True\n",
    "\n",
    "model.summary()\n"
   ]
  },
  {
   "cell_type": "code",
   "execution_count": 107,
   "metadata": {},
   "outputs": [],
   "source": [
    "from keras.metrics import *\n",
    "\n",
    "METRICS = [\n",
    "      BinaryAccuracy(name='accuracy'),\n",
    "      Precision(name='precision'),\n",
    "      Recall(name='recall'),\n",
    "      AUC(name='auc'),\n",
    "]\n",
    "# my_model.compile(loss = \"binary_crossentropy\", optimizer = optimizers.SGD(lr=0.0001, momentum=0.9), metrics=METRICS)\n",
    "from keras.optimizers import Adam, SGD, RMSprop\n",
    "\n",
    "optimizer = SGD(lr=0.01)\n",
    "\n",
    "model.compile(loss = \"categorical_crossentropy\", optimizer = optimizer, metrics=METRICS)"
   ]
  },
  {
   "cell_type": "code",
   "execution_count": 108,
   "metadata": {},
   "outputs": [
    {
     "name": "stdout",
     "output_type": "stream",
     "text": [
      "Epoch 1/5\n",
      "438/438 [==============================] - 501s 1s/step - loss: 0.9399 - accuracy: 0.8976 - precision: 0.7242 - recall: 0.6233 - auc: 0.9181 - val_loss: 0.3865 - val_accuracy: 0.9335 - val_precision: 0.8346 - val_recall: 0.7497 - val_auc: 0.9662\n",
      "Epoch 2/5\n",
      "438/438 [==============================] - 497s 1s/step - loss: 0.7307 - accuracy: 0.9184 - precision: 0.7807 - recall: 0.7102 - auc: 0.9476 - val_loss: 0.7288 - val_accuracy: 0.9399 - val_precision: 0.8446 - val_recall: 0.7837 - val_auc: 0.9685\n",
      "Epoch 3/5\n",
      "438/438 [==============================] - 527s 1s/step - loss: 0.6800 - accuracy: 0.9242 - precision: 0.7958 - recall: 0.7332 - auc: 0.9541 - val_loss: 0.4619 - val_accuracy: 0.9397 - val_precision: 0.8449 - val_recall: 0.7817 - val_auc: 0.9702\n",
      "Epoch 4/5\n",
      "438/438 [==============================] - 523s 1s/step - loss: 0.6656 - accuracy: 0.9240 - precision: 0.7973 - recall: 0.7293 - auc: 0.9555 - val_loss: 0.3165 - val_accuracy: 0.9394 - val_precision: 0.8426 - val_recall: 0.7827 - val_auc: 0.9698\n",
      "Epoch 5/5\n",
      "438/438 [==============================] - 485s 1s/step - loss: 0.6370 - accuracy: 0.9269 - precision: 0.8052 - recall: 0.7408 - auc: 0.9588 - val_loss: 0.2281 - val_accuracy: 0.9404 - val_precision: 0.8453 - val_recall: 0.7861 - val_auc: 0.9719\n"
     ]
    }
   ],
   "source": [
    "history = model.fit_generator(generator=training_set,\n",
    "                    steps_per_epoch=STEP_SIZE_TRAIN,\n",
    "                    validation_data=test_set,\n",
    "                    validation_steps=STEP_SIZE_TEST,\n",
    "                    epochs=5\n",
    ")"
   ]
  },
  {
   "cell_type": "markdown",
   "metadata": {},
   "source": [
    "## Assess metrics and accuracy"
   ]
  },
  {
   "cell_type": "code",
   "execution_count": 115,
   "metadata": {},
   "outputs": [
    {
     "data": {
      "image/png": "[encoded data removed]",
      "text/plain": [
       "<Figure size 432x288 with 1 Axes>"
      ]
     },
     "metadata": {
      "needs_background": "light"
     },
     "output_type": "display_data"
    },
    {
     "data": {
      "image/png": "[encoded data removed]",
      "text/plain": [
       "<Figure size 432x288 with 1 Axes>"
      ]
     },
     "metadata": {
      "needs_background": "light"
     },
     "output_type": "display_data"
    }
   ],
   "source": [
    "import matplotlib.pyplot as plot\n",
    "\n",
    "plot.plot(history.history['accuracy'])\n",
    "plot.plot(history.history['val_accuracy'])\n",
    "plot.title('Model accuracy')\n",
    "plot.ylabel('Accuracy')\n",
    "plot.xlabel('Epoch')\n",
    "plot.legend(['Train', 'Test'], loc='upper left')\n",
    "plot.show()\n",
    "\n",
    "plot.plot(history.history['loss'])\n",
    "plot.plot(history.history['val_loss'])\n",
    "plot.title('Model loss')\n",
    "plot.ylabel('Loss')\n",
    "plot.xlabel('Epoch')\n",
    "plot.legend(['Train', 'Test'], loc='upper left')\n",
    "plot.show()"
   ]
  },
  {
   "cell_type": "code",
   "execution_count": 166,
   "metadata": {},
   "outputs": [
    {
     "name": "stdout",
     "output_type": "stream",
     "text": [
      "94/94 [==============================] - 84s 891ms/step\n",
      "              precision    recall  f1-score   support\n",
      "\n",
      "   buildings       0.78      0.84      0.81       437\n",
      "      forest       0.93      0.96      0.94       474\n",
      "     glacier       0.76      0.79      0.77       553\n",
      "    mountain       0.81      0.68      0.74       525\n",
      "         sea       0.79      0.82      0.80       510\n",
      "      street       0.84      0.83      0.84       501\n",
      "\n",
      "    accuracy                           0.82      3000\n",
      "   macro avg       0.82      0.82      0.82      3000\n",
      "weighted avg       0.82      0.82      0.81      3000\n",
      "\n",
      "0.816\n"
     ]
    }
   ],
   "source": [
    "# Predict the model on test set\n",
    "test_set.reset()\n",
    "pred=model.predict_generator(test_set,\n",
    "steps=STEP_SIZE_TEST + 1,\n",
    "verbose=1)\n",
    "\n",
    "# predicted class  - change the array to 0,1\n",
    "predicted_class=np.argmax(pred,axis=1)\n",
    "\n",
    "# Extract actual test data classes and labels\n",
    "actual_class = test_set.classes\n",
    "class_labels = list(test_set.class_indices.keys()) \n",
    "\n",
    "# classification report\n",
    "report = classification_report(actual_class, predicted_class, target_names=class_labels)\n",
    "print(report) \n",
    "\n",
    "acc = accuracy_score(actual_class, predicted_class)\n",
    "print(acc)"
   ]
  },
  {
   "cell_type": "code",
   "execution_count": 168,
   "metadata": {},
   "outputs": [
    {
     "name": "stdout",
     "output_type": "stream",
     "text": [
      "[[369   9   1   3   9  46]\n",
      " [  1 455   1   2   1  14]\n",
      " [ 10   5 436  56  40   6]\n",
      " [ 14   4  89 357  55   6]\n",
      " [ 16   7  45  20 416   6]\n",
      " [ 64  10   2   2   8 415]]\n"
     ]
    }
   ],
   "source": [
    "# Evaluate the model to get the corresponding Accuracy, Precision, and Recall\n",
    "from sklearn.metrics import confusion_matrix, classification_report, accuracy_score\n",
    "\n",
    "CM =confusion_matrix(actual_class,predicted_class)\n",
    "# print(\"Confusion Matrix :\")\n",
    "print(CM)"
   ]
  },
  {
   "cell_type": "code",
   "execution_count": 170,
   "metadata": {},
   "outputs": [
    {
     "data": {
      "text/plain": [
       "0.2448"
      ]
     },
     "execution_count": 170,
     "metadata": {},
     "output_type": "execute_result"
    }
   ],
   "source": [
    "test_set.reset()\n",
    "Y_pred = model.predict_generator(test_set)\n",
    "classes = test_set.classes[test_set.index_array]\n",
    "y_pred = np.argmax(Y_pred, axis=-1)\n",
    "sum(y_pred==classes)/10000"
   ]
  },
  {
   "cell_type": "code",
   "execution_count": 169,
   "metadata": {},
   "outputs": [
    {
     "data": {
      "text/plain": [
       "array([[369,   9,   1,   3,   9,  46],\n",
       "       [  1, 455,   1,   2,   1,  14],\n",
       "       [ 10,   5, 436,  56,  40,   6],\n",
       "       [ 14,   4,  89, 357,  55,   6],\n",
       "       [ 16,   7,  45,  20, 416,   6],\n",
       "       [ 64,  10,   2,   2,   8, 415]], dtype=int64)"
      ]
     },
     "execution_count": 169,
     "metadata": {},
     "output_type": "execute_result"
    }
   ],
   "source": [
    "from sklearn.metrics import confusion_matrix\n",
    "confusion_matrix(test_set.classes[test_set.index_array],y_pred)"
   ]
  }
 ],
 "metadata": {
  "kernelspec": {
   "display_name": "Python 3",
   "language": "python",
   "name": "python3"
  },
  "language_info": {
   "codemirror_mode": {
    "name": "ipython",
    "version": 3
   },
   "file_extension": ".py",
   "mimetype": "text/x-python",
   "name": "python",
   "nbconvert_exporter": "python",
   "pygments_lexer": "ipython3",
   "version": "3.7.6"
  }
 },
 "nbformat": 4,
 "nbformat_minor": 4
}
