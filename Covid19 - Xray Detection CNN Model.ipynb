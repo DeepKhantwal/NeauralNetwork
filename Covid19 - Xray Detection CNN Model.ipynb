{
 "cells": [
  {
   "cell_type": "code",
   "execution_count": 359,
   "metadata": {},
   "outputs": [],
   "source": [
    "from keras_preprocessing.image import ImageDataGenerator\n",
    "# Initialize Neural network\n",
    "from keras.models import Sequential\n",
    "# Create layers in ANN\n",
    "from keras.layers import Conv2D\n",
    "from keras.layers import MaxPooling2D\n",
    "from keras.layers import Flatten\n",
    "from keras.layers import Dense\n",
    "\n",
    "import pandas as pd\n",
    "import numpy as np"
   ]
  },
  {
   "cell_type": "code",
   "execution_count": 326,
   "metadata": {},
   "outputs": [],
   "source": [
    "df = pd.read_csv('C:/Users/ksa/OneDrive - Delta Partners/Documents/coronahack-chest-xraydataset/Chest_xray_Corona_Metadata.csv')"
   ]
  },
  {
   "cell_type": "code",
   "execution_count": 451,
   "metadata": {},
   "outputs": [
    {
     "name": "stderr",
     "output_type": "stream",
     "text": [
      "C:\\Users\\ksa\\Anaconda3\\lib\\site-packages\\ipykernel_launcher.py:4: UserWarning: Boolean Series key will be reindexed to match DataFrame index.\n",
      "  after removing the cwd from sys.path.\n"
     ]
    }
   ],
   "source": [
    "from sklearn.utils import shuffle\n",
    "\n",
    "df_train = df[df.Dataset_type == 'TRAIN']\n",
    "df_train = df_train[(df.Label_2_Virus_category == 'COVID-19') & (df.Label == 'Pnemonia') | (df.Label == 'Normal')]\n",
    "df_train = shuffle(df_train, random_state=1)\n",
    "\n",
    "df_val = df_train.iloc[1000:]\n",
    "df_train = df_train.iloc[:1000]\n",
    "\n",
    "df_test = df[df.Dataset_type == 'TEST']\n"
   ]
  },
  {
   "cell_type": "code",
   "execution_count": 275,
   "metadata": {},
   "outputs": [
    {
     "name": "stdout",
     "output_type": "stream",
     "text": [
      "(1000, 7)\n",
      "(400, 7)\n",
      "(624, 7)\n"
     ]
    }
   ],
   "source": [
    "print(df_train.shape)\n",
    "print(df_val.shape)\n",
    "print(df_test.shape)"
   ]
  },
  {
   "cell_type": "code",
   "execution_count": 284,
   "metadata": {},
   "outputs": [
    {
     "data": {
      "text/plain": [
       "Normal      377\n",
       "Pnemonia     23\n",
       "Name: Label, dtype: int64"
      ]
     },
     "execution_count": 284,
     "metadata": {},
     "output_type": "execute_result"
    }
   ],
   "source": [
    "df_train.Label.value_counts()\n",
    "df_val.Label.value_counts()"
   ]
  },
  {
   "cell_type": "code",
   "execution_count": 303,
   "metadata": {},
   "outputs": [
    {
     "name": "stdout",
     "output_type": "stream",
     "text": [
      "Found 1000 validated image filenames belonging to 2 classes.\n",
      "Found 400 validated image filenames belonging to 2 classes.\n",
      "Found 624 validated image filenames belonging to 2 classes.\n"
     ]
    }
   ],
   "source": [
    "datagen=ImageDataGenerator(rescale=1./255.)\n",
    "# datagen=ImageDataGenerator(rescale=1./255.,validation_split=0.25)\n",
    "\n",
    "train_generator=datagen.flow_from_dataframe(\n",
    "dataframe=df_train,\n",
    "directory=\"C:/Users/ksa/OneDrive - Delta Partners/Documents/coronahack-chest-xraydataset/Coronahack-Chest-XRay-Dataset/Coronahack-Chest-XRay-Dataset/train/\",\n",
    "x_col=\"X_ray_image_name\",\n",
    "y_col=\"Label\",\n",
    "# subset=\"training\",\n",
    "batch_size=32,\n",
    "seed=42,\n",
    "shuffle=True,\n",
    "class_mode=\"binary\",\n",
    "target_size=(32,32))\n",
    "\n",
    "\n",
    "valid_generator=datagen.flow_from_dataframe(\n",
    "dataframe=df_val,\n",
    "directory=\"C:/Users/ksa/OneDrive - Delta Partners/Documents/coronahack-chest-xraydataset/Coronahack-Chest-XRay-Dataset/Coronahack-Chest-XRay-Dataset/train/\",\n",
    "x_col=\"X_ray_image_name\",\n",
    "y_col=\"Label\",\n",
    "# subset=\"validation\",\n",
    "batch_size=32,\n",
    "seed=42,\n",
    "shuffle=True,\n",
    "class_mode=\"binary\",\n",
    "target_size=(32,32))\n",
    "\n",
    "\n",
    "test_datagen=ImageDataGenerator(rescale=1./255.)\n",
    "test_generator=test_datagen.flow_from_dataframe(\n",
    "dataframe=df_test,\n",
    "directory=\"C:/Users/ksa/OneDrive - Delta Partners/Documents/coronahack-chest-xraydataset/Coronahack-Chest-XRay-Dataset/Coronahack-Chest-XRay-Dataset/test\",\n",
    "x_col=\"X_ray_image_name\",\n",
    "y_col=\"Label\",\n",
    "batch_size=32,\n",
    "seed=42,\n",
    "shuffle=False,\n",
    "class_mode=\"binary\",\n",
    "target_size=(32,32))\n"
   ]
  },
  {
   "cell_type": "code",
   "execution_count": 295,
   "metadata": {},
   "outputs": [
    {
     "name": "stdout",
     "output_type": "stream",
     "text": [
      "Model: \"sequential_15\"\n",
      "_________________________________________________________________\n",
      "Layer (type)                 Output Shape              Param #   \n",
      "=================================================================\n",
      "conv2d_49 (Conv2D)           (None, 32, 32, 32)        896       \n",
      "_________________________________________________________________\n",
      "activation_56 (Activation)   (None, 32, 32, 32)        0         \n",
      "_________________________________________________________________\n",
      "conv2d_50 (Conv2D)           (None, 30, 30, 32)        9248      \n",
      "_________________________________________________________________\n",
      "activation_57 (Activation)   (None, 30, 30, 32)        0         \n",
      "_________________________________________________________________\n",
      "max_pooling2d_27 (MaxPooling (None, 15, 15, 32)        0         \n",
      "_________________________________________________________________\n",
      "dropout_34 (Dropout)         (None, 15, 15, 32)        0         \n",
      "_________________________________________________________________\n",
      "conv2d_51 (Conv2D)           (None, 15, 15, 64)        18496     \n",
      "_________________________________________________________________\n",
      "activation_58 (Activation)   (None, 15, 15, 64)        0         \n",
      "_________________________________________________________________\n",
      "conv2d_52 (Conv2D)           (None, 13, 13, 64)        36928     \n",
      "_________________________________________________________________\n",
      "activation_59 (Activation)   (None, 13, 13, 64)        0         \n",
      "_________________________________________________________________\n",
      "max_pooling2d_28 (MaxPooling (None, 6, 6, 64)          0         \n",
      "_________________________________________________________________\n",
      "dropout_35 (Dropout)         (None, 6, 6, 64)          0         \n",
      "_________________________________________________________________\n",
      "flatten_14 (Flatten)         (None, 2304)              0         \n",
      "_________________________________________________________________\n",
      "dense_27 (Dense)             (None, 512)               1180160   \n",
      "_________________________________________________________________\n",
      "activation_60 (Activation)   (None, 512)               0         \n",
      "_________________________________________________________________\n",
      "dropout_36 (Dropout)         (None, 512)               0         \n",
      "_________________________________________________________________\n",
      "dense_28 (Dense)             (None, 1)                 513       \n",
      "=================================================================\n",
      "Total params: 1,246,241\n",
      "Trainable params: 1,246,241\n",
      "Non-trainable params: 0\n",
      "_________________________________________________________________\n"
     ]
    }
   ],
   "source": [
    "from keras.metrics import *\n",
    "\n",
    "METRICS = [\n",
    "      BinaryAccuracy(name='accuracy'),\n",
    "      Precision(name='precision'),\n",
    "      Recall(name='recall'),\n",
    "      AUC(name='auc'),\n",
    "]\n",
    "\n",
    "model = Sequential()\n",
    "model.add(Conv2D(32, (3, 3), padding='same',\n",
    "                 input_shape=(32,32,3)))\n",
    "model.add(Activation('relu'))\n",
    "model.add(Conv2D(32, (3, 3)))\n",
    "model.add(Activation('relu'))\n",
    "model.add(MaxPooling2D(pool_size=(2, 2)))\n",
    "model.add(Dropout(0.25))\n",
    "model.add(Conv2D(64, (3, 3), padding='same'))\n",
    "model.add(Activation('relu'))\n",
    "model.add(Conv2D(64, (3, 3)))\n",
    "model.add(Activation('relu'))\n",
    "model.add(MaxPooling2D(pool_size=(2, 2)))\n",
    "model.add(Dropout(0.25))\n",
    "model.add(Flatten())\n",
    "model.add(Dense(512))\n",
    "model.add(Activation('relu'))\n",
    "model.add(Dropout(0.5))\n",
    "model.add(Dense(1, activation='sigmoid'))\n",
    "model.compile(optimizers.rmsprop(lr=0.0001, decay=1e-6),loss=\"binary_crossentropy\",metrics=METRICS)\n",
    "model.summary()"
   ]
  },
  {
   "cell_type": "code",
   "execution_count": 324,
   "metadata": {},
   "outputs": [],
   "source": [
    "STEP_SIZE_TRAIN=train_generator.n//train_generator.batch_size\n",
    "STEP_SIZE_VALID=valid_generator.n//valid_generator.batch_size\n",
    "STEP_SIZE_TEST=test_generator.n//test_generator.batch_size\n"
   ]
  },
  {
   "cell_type": "markdown",
   "metadata": {},
   "source": [
    "## CNN Model "
   ]
  },
  {
   "cell_type": "code",
   "execution_count": 297,
   "metadata": {},
   "outputs": [
    {
     "name": "stdout",
     "output_type": "stream",
     "text": [
      "Epoch 1/15\n",
      "31/31 [==============================] - 67s 2s/step - loss: 0.1916 - accuracy: 0.9432 - precision: 0.0417 - recall: 0.0303 - auc: 0.5316 - val_loss: 0.1509 - val_accuracy: 0.9427 - val_precision: 0.0000e+00 - val_recall: 0.0000e+00 - val_auc: 0.7671\n",
      "Epoch 2/15\n",
      "31/31 [==============================] - 89s 3s/step - loss: 0.1468 - accuracy: 0.9638 - precision: 0.0000e+00 - recall: 0.0000e+00 - auc: 0.6713 - val_loss: 0.2354 - val_accuracy: 0.9457 - val_precision: 0.0000e+00 - val_recall: 0.0000e+00 - val_auc: 0.8770\n",
      "Epoch 3/15\n",
      "31/31 [==============================] - 85s 3s/step - loss: 0.1296 - accuracy: 0.9680 - precision: 0.0000e+00 - recall: 0.0000e+00 - auc: 0.7308 - val_loss: 0.2658 - val_accuracy: 0.9429 - val_precision: 0.0000e+00 - val_recall: 0.0000e+00 - val_auc: 0.9804\n",
      "Epoch 4/15\n",
      "31/31 [==============================] - 81s 3s/step - loss: 0.1398 - accuracy: 0.9628 - precision: 0.0000e+00 - recall: 0.0000e+00 - auc: 0.7555 - val_loss: 0.3053 - val_accuracy: 0.9429 - val_precision: 0.0000e+00 - val_recall: 0.0000e+00 - val_auc: 0.9933\n",
      "Epoch 5/15\n",
      "31/31 [==============================] - 78s 3s/step - loss: 0.1216 - accuracy: 0.9669 - precision: 0.0000e+00 - recall: 0.0000e+00 - auc: 0.8323 - val_loss: 0.1461 - val_accuracy: 0.9321 - val_precision: 0.0000e+00 - val_recall: 0.0000e+00 - val_auc: 0.9938\n",
      "Epoch 6/15\n",
      "31/31 [==============================] - 76s 2s/step - loss: 0.1258 - accuracy: 0.9618 - precision: 0.0000e+00 - recall: 0.0000e+00 - auc: 0.9126 - val_loss: 0.0662 - val_accuracy: 0.9429 - val_precision: 0.0000e+00 - val_recall: 0.0000e+00 - val_auc: 0.9934\n",
      "Epoch 7/15\n",
      "31/31 [==============================] - 74s 2s/step - loss: 0.1047 - accuracy: 0.9638 - precision: 0.0000e+00 - recall: 0.0000e+00 - auc: 0.9713 - val_loss: 0.1602 - val_accuracy: 0.9484 - val_precision: 0.0000e+00 - val_recall: 0.0000e+00 - val_auc: 0.9851\n",
      "Epoch 8/15\n",
      "31/31 [==============================] - 70s 2s/step - loss: 0.0907 - accuracy: 0.9667 - precision: 0.0000e+00 - recall: 0.0000e+00 - auc: 0.9735 - val_loss: 0.1310 - val_accuracy: 0.9375 - val_precision: 0.0000e+00 - val_recall: 0.0000e+00 - val_auc: 0.9972\n",
      "Epoch 9/15\n",
      "31/31 [==============================] - 66s 2s/step - loss: 0.0737 - accuracy: 0.9746 - precision: 0.0000e+00 - recall: 0.0000e+00 - auc: 0.9621 - val_loss: 0.0850 - val_accuracy: 0.9457 - val_precision: 0.0000e+00 - val_recall: 0.0000e+00 - val_auc: 0.9789\n",
      "Epoch 10/15\n",
      "31/31 [==============================] - 71s 2s/step - loss: 0.0835 - accuracy: 0.9597 - precision: 0.0000e+00 - recall: 0.0000e+00 - auc: 0.9704 - val_loss: 0.0408 - val_accuracy: 0.9538 - val_precision: 0.8333 - val_recall: 0.2381 - val_auc: 0.9942\n",
      "Epoch 11/15\n",
      "31/31 [==============================] - 71s 2s/step - loss: 0.0705 - accuracy: 0.9649 - precision: 1.0000 - recall: 0.1500 - auc: 0.9879 - val_loss: 0.0758 - val_accuracy: 0.9837 - val_precision: 0.9048 - val_recall: 0.8261 - val_auc: 0.9922\n",
      "Epoch 12/15\n",
      "31/31 [==============================] - 67s 2s/step - loss: 0.0578 - accuracy: 0.9762 - precision: 0.9000 - recall: 0.2903 - auc: 0.9741 - val_loss: 0.0099 - val_accuracy: 0.9810 - val_precision: 0.8125 - val_recall: 0.7647 - val_auc: 0.9907\n",
      "Epoch 13/15\n",
      "31/31 [==============================] - 68s 2s/step - loss: 0.0592 - accuracy: 0.9725 - precision: 0.7895 - recall: 0.4054 - auc: 0.9812 - val_loss: 0.0225 - val_accuracy: 0.9755 - val_precision: 0.7917 - val_recall: 0.8261 - val_auc: 0.9902\n",
      "Epoch 14/15\n",
      "31/31 [==============================] - 74s 2s/step - loss: 0.0405 - accuracy: 0.9824 - precision: 0.8500 - recall: 0.5484 - auc: 0.9943 - val_loss: 0.0273 - val_accuracy: 0.9792 - val_precision: 0.8182 - val_recall: 0.8182 - val_auc: 0.9915\n",
      "Epoch 15/15\n",
      "31/31 [==============================] - 91s 3s/step - loss: 0.0458 - accuracy: 0.9814 - precision: 0.8800 - recall: 0.5946 - auc: 0.9930 - val_loss: 0.1504 - val_accuracy: 0.9728 - val_precision: 0.7000 - val_recall: 0.9545 - val_auc: 0.9902\n"
     ]
    },
    {
     "data": {
      "text/plain": [
       "<keras.callbacks.callbacks.History at 0x1edba672a48>"
      ]
     },
     "execution_count": 297,
     "metadata": {},
     "output_type": "execute_result"
    }
   ],
   "source": [
    "model.fit_generator(generator=train_generator,\n",
    "                    steps_per_epoch=STEP_SIZE_TRAIN,\n",
    "                    validation_data=valid_generator,\n",
    "                    validation_steps=STEP_SIZE_VALID,\n",
    "                    epochs=15\n",
    ")"
   ]
  },
  {
   "cell_type": "markdown",
   "metadata": {},
   "source": [
    "## Image Augmentation\n",
    "\n",
    "Deep networks need large amount of training data to achieve good performance. To build a powerful image classifier using very little training data, image augmentation is usually required to boost the performance of deep networks. Image augmentation artificially creates training images through different ways of processing or combination of multiple processing, such as random rotation, shifts, shear and flips, etc\n",
    "\n",
    "We will be using keras ImageDataGenerator's inbuilt image augumentation functionality for the process of image augumentation"
   ]
  },
  {
   "cell_type": "code",
   "execution_count": 314,
   "metadata": {},
   "outputs": [
    {
     "name": "stdout",
     "output_type": "stream",
     "text": [
      "Found 1000 validated image filenames belonging to 2 classes.\n",
      "Found 400 validated image filenames belonging to 2 classes.\n",
      "Found 624 validated image filenames belonging to 2 classes.\n"
     ]
    }
   ],
   "source": [
    "# Image Augmentation for training dataset\n",
    "datagen=ImageDataGenerator(\n",
    "    rescale=1./255,\n",
    "    featurewise_center=True,\n",
    "    featurewise_std_normalization=True,\n",
    "    rotation_range=90,\n",
    "    width_shift_range=0.15,\n",
    "    height_shift_range=0.15,\n",
    "    horizontal_flip=True,\n",
    "    zoom_range=[0.9, 1.25],\n",
    "    brightness_range=[0.5, 1.5]\n",
    ")\n",
    "\n",
    "test_datagen=ImageDataGenerator(rescale=1./255.)\n",
    "\n",
    "# datagen=ImageDataGenerator(rescale=1./255.,validation_split=0.25)\n",
    "\n",
    "train_generator=datagen.flow_from_dataframe(\n",
    "dataframe=df_train,\n",
    "directory=\"C:/Users/ksa/OneDrive - Delta Partners/Documents/coronahack-chest-xraydataset/Coronahack-Chest-XRay-Dataset/Coronahack-Chest-XRay-Dataset/train/\",\n",
    "x_col=\"X_ray_image_name\",\n",
    "y_col=\"Label\",\n",
    "# subset=\"training\",\n",
    "batch_size=32,\n",
    "seed=42,\n",
    "shuffle=True,\n",
    "class_mode=\"binary\",\n",
    "target_size=(32,32))\n",
    "\n",
    "\n",
    "valid_generator=datagen.flow_from_dataframe(\n",
    "dataframe=df_val,\n",
    "directory=\"C:/Users/ksa/OneDrive - Delta Partners/Documents/coronahack-chest-xraydataset/Coronahack-Chest-XRay-Dataset/Coronahack-Chest-XRay-Dataset/train/\",\n",
    "x_col=\"X_ray_image_name\",\n",
    "y_col=\"Label\",\n",
    "# subset=\"validation\",\n",
    "batch_size=32,\n",
    "seed=42,\n",
    "shuffle=True,\n",
    "class_mode=\"binary\",\n",
    "target_size=(32,32))\n",
    "\n",
    "\n",
    "test_generator=test_datagen.flow_from_dataframe(\n",
    "dataframe=df_test,\n",
    "directory=\"C:/Users/ksa/OneDrive - Delta Partners/Documents/coronahack-chest-xraydataset/Coronahack-Chest-XRay-Dataset/Coronahack-Chest-XRay-Dataset/test\",\n",
    "x_col=\"X_ray_image_name\",\n",
    "y_col=\"Label\",\n",
    "batch_size=32,\n",
    "seed=42,\n",
    "shuffle=False,\n",
    "class_mode=\"binary\",\n",
    "target_size=(32,32))\n"
   ]
  },
  {
   "cell_type": "code",
   "execution_count": 315,
   "metadata": {},
   "outputs": [
    {
     "name": "stdout",
     "output_type": "stream",
     "text": [
      "Epoch 1/15\n"
     ]
    },
    {
     "name": "stderr",
     "output_type": "stream",
     "text": [
      "C:\\Users\\ksa\\Anaconda3\\lib\\site-packages\\keras_preprocessing\\image\\image_data_generator.py:716: UserWarning: This ImageDataGenerator specifies `featurewise_center`, but it hasn't been fit on any training data. Fit it first by calling `.fit(numpy_data)`.\n",
      "  warnings.warn('This ImageDataGenerator specifies '\n",
      "C:\\Users\\ksa\\Anaconda3\\lib\\site-packages\\keras_preprocessing\\image\\image_data_generator.py:724: UserWarning: This ImageDataGenerator specifies `featurewise_std_normalization`, but it hasn't been fit on any training data. Fit it first by calling `.fit(numpy_data)`.\n",
      "  warnings.warn('This ImageDataGenerator specifies '\n"
     ]
    },
    {
     "name": "stdout",
     "output_type": "stream",
     "text": [
      "31/31 [==============================] - 32s 1s/step - loss: 0.1757 - accuracy: 0.9463 - precision: 0.0500 - recall: 0.0294 - auc: 0.7262 - val_loss: 0.1670 - val_accuracy: 0.9453 - val_precision: 0.7500 - val_recall: 0.1304 - val_auc: 0.8807\n",
      "Epoch 2/15\n",
      "31/31 [==============================] - 41s 1s/step - loss: 0.1433 - accuracy: 0.9659 - precision: 0.7500 - recall: 0.0857 - auc: 0.7448 - val_loss: 0.1810 - val_accuracy: 0.9511 - val_precision: 0.7500 - val_recall: 0.1500 - val_auc: 0.8899\n",
      "Epoch 3/15\n",
      "31/31 [==============================] - 42s 1s/step - loss: 0.1352 - accuracy: 0.9649 - precision: 0.0000e+00 - recall: 0.0000e+00 - auc: 0.7595 - val_loss: 0.3062 - val_accuracy: 0.9457 - val_precision: 1.0000 - val_recall: 0.0909 - val_auc: 0.9461\n",
      "Epoch 4/15\n",
      "31/31 [==============================] - 40s 1s/step - loss: 0.1271 - accuracy: 0.9680 - precision: 1.0000 - recall: 0.0312 - auc: 0.7867 - val_loss: 0.4889 - val_accuracy: 0.9511 - val_precision: 1.0000 - val_recall: 0.0526 - val_auc: 0.9276\n",
      "Epoch 5/15\n",
      "31/31 [==============================] - 37s 1s/step - loss: 0.1431 - accuracy: 0.9628 - precision: 0.0000e+00 - recall: 0.0000e+00 - auc: 0.7822 - val_loss: 0.1666 - val_accuracy: 0.9348 - val_precision: 0.0000e+00 - val_recall: 0.0000e+00 - val_auc: 0.8714\n",
      "Epoch 6/15\n",
      "31/31 [==============================] - 36s 1s/step - loss: 0.1110 - accuracy: 0.9680 - precision: 0.6667 - recall: 0.0625 - auc: 0.8369 - val_loss: 0.0887 - val_accuracy: 0.9538 - val_precision: 1.0000 - val_recall: 0.1500 - val_auc: 0.8712\n",
      "Epoch 7/15\n",
      "31/31 [==============================] - 35s 1s/step - loss: 0.1283 - accuracy: 0.9649 - precision: 1.0000 - recall: 0.0811 - auc: 0.8478 - val_loss: 0.0225 - val_accuracy: 0.9511 - val_precision: 1.0000 - val_recall: 0.1429 - val_auc: 0.9265\n",
      "Epoch 8/15\n",
      "31/31 [==============================] - 32s 1s/step - loss: 0.1130 - accuracy: 0.9721 - precision: 0.0000e+00 - recall: 0.0000e+00 - auc: 0.8074 - val_loss: 0.1008 - val_accuracy: 0.9592 - val_precision: 1.0000 - val_recall: 0.0625 - val_auc: 0.8151\n",
      "Epoch 9/15\n",
      "31/31 [==============================] - 31s 1s/step - loss: 0.1332 - accuracy: 0.9628 - precision: 1.0000 - recall: 0.0769 - auc: 0.7935 - val_loss: 0.1938 - val_accuracy: 0.9457 - val_precision: 1.0000 - val_recall: 0.2308 - val_auc: 0.9558\n",
      "Epoch 10/15\n",
      "31/31 [==============================] - 33s 1s/step - loss: 0.1127 - accuracy: 0.9628 - precision: 1.0000 - recall: 0.0270 - auc: 0.8754 - val_loss: 0.2752 - val_accuracy: 0.9511 - val_precision: 1.0000 - val_recall: 0.2174 - val_auc: 0.8961\n",
      "Epoch 11/15\n",
      "31/31 [==============================] - 31s 1s/step - loss: 0.0892 - accuracy: 0.9721 - precision: 1.0000 - recall: 0.0357 - auc: 0.8558 - val_loss: 0.1332 - val_accuracy: 0.9647 - val_precision: 0.7143 - val_recall: 0.5263 - val_auc: 0.8457\n",
      "Epoch 12/15\n",
      "31/31 [==============================] - 33s 1s/step - loss: 0.1296 - accuracy: 0.9637 - precision: 1.0000 - recall: 0.0769 - auc: 0.8513 - val_loss: 0.1271 - val_accuracy: 0.9647 - val_precision: 0.9000 - val_recall: 0.4286 - val_auc: 0.8866\n",
      "Epoch 13/15\n",
      "31/31 [==============================] - 32s 1s/step - loss: 0.1028 - accuracy: 0.9680 - precision: 0.8750 - recall: 0.1892 - auc: 0.9057 - val_loss: 0.0404 - val_accuracy: 0.9592 - val_precision: 0.8889 - val_recall: 0.3636 - val_auc: 0.9080\n",
      "Epoch 14/15\n",
      "31/31 [==============================] - 33s 1s/step - loss: 0.1083 - accuracy: 0.9703 - precision: 0.6000 - recall: 0.1034 - auc: 0.8532 - val_loss: 0.0187 - val_accuracy: 0.9583 - val_precision: 1.0000 - val_recall: 0.2000 - val_auc: 0.9203\n",
      "Epoch 15/15\n",
      "31/31 [==============================] - 43s 1s/step - loss: 0.1068 - accuracy: 0.9659 - precision: 1.0000 - recall: 0.0833 - auc: 0.8932 - val_loss: 0.0421 - val_accuracy: 0.9565 - val_precision: 0.8889 - val_recall: 0.3478 - val_auc: 0.9061\n"
     ]
    },
    {
     "data": {
      "text/plain": [
       "<keras.callbacks.callbacks.History at 0x1edbccbf908>"
      ]
     },
     "execution_count": 315,
     "metadata": {},
     "output_type": "execute_result"
    }
   ],
   "source": [
    "model.fit_generator(generator=train_generator,\n",
    "                    steps_per_epoch=STEP_SIZE_TRAIN,\n",
    "                    validation_data=valid_generator,\n",
    "                    validation_steps=STEP_SIZE_VALID,\n",
    "                    epochs=15\n",
    ")"
   ]
  },
  {
   "cell_type": "markdown",
   "metadata": {},
   "source": [
    "## Correcting the imbalance Data\n",
    "- We will remove 4 / 5 th of the Normal labelled images while keeping the count of COVID-19 labelled images same\n",
    "- 1342 / 5 ~ 269; 269 / (269 + 58) ~ 82.26 %\n",
    "- To compensate for less number of training images, we increase the number of epochs"
   ]
  },
  {
   "cell_type": "code",
   "execution_count": 327,
   "metadata": {},
   "outputs": [
    {
     "name": "stderr",
     "output_type": "stream",
     "text": [
      "C:\\Users\\ksa\\Anaconda3\\lib\\site-packages\\ipykernel_launcher.py:2: UserWarning: Boolean Series key will be reindexed to match DataFrame index.\n",
      "  \n"
     ]
    }
   ],
   "source": [
    "df_train = df[df.Dataset_type == 'TRAIN']\n",
    "df_train = df_train[(df.Label_2_Virus_category == 'COVID-19') & (df.Label == 'Pnemonia') | (df.Label == 'Normal')]\n",
    "df_train = shuffle(df_train, random_state=1)\n",
    "\n",
    "# Undersampling the 0's (normal data)\n",
    "df_train_normal = df_train[df_train['Label']=='Normal']\n",
    "df_train_Covid = df_train[df_train['Label']=='Pnemonia']\n",
    "\n",
    "df_train_frac_normal = df_train_normal.sample(frac=(1/5))\n",
    "\n",
    "# Using pd.concat to concat undersampled Normal data and Covid dataset\n",
    "df_train_concat = pd.concat([df_train_frac_normal,df_train_Covid ], axis = 0)\n",
    "df_train_concat = shuffle(df_train_concat, random_state = 0)\n",
    "\n",
    "\n",
    "df_balanced_val = df_train_concat.iloc[240:]\n",
    "df_balanced_train = df_train_concat.iloc[:240]\n",
    "\n",
    "df_test = df[df.Dataset_type == 'TEST']\n"
   ]
  },
  {
   "cell_type": "code",
   "execution_count": 328,
   "metadata": {},
   "outputs": [
    {
     "name": "stdout",
     "output_type": "stream",
     "text": [
      "Found 240 validated image filenames belonging to 2 classes.\n",
      "Found 86 validated image filenames belonging to 2 classes.\n"
     ]
    }
   ],
   "source": [
    "train_generator=datagen.flow_from_dataframe(\n",
    "dataframe=df_balanced_train,\n",
    "directory=\"C:/Users/ksa/OneDrive - Delta Partners/Documents/coronahack-chest-xraydataset/Coronahack-Chest-XRay-Dataset/Coronahack-Chest-XRay-Dataset/train/\",\n",
    "x_col=\"X_ray_image_name\",\n",
    "y_col=\"Label\",\n",
    "# subset=\"training\",\n",
    "batch_size=32,\n",
    "seed=42,\n",
    "shuffle=True,\n",
    "class_mode=\"binary\",\n",
    "target_size=(32,32))\n",
    "\n",
    "\n",
    "valid_generator=datagen.flow_from_dataframe(\n",
    "dataframe=df_balanced_val,\n",
    "directory=\"C:/Users/ksa/OneDrive - Delta Partners/Documents/coronahack-chest-xraydataset/Coronahack-Chest-XRay-Dataset/Coronahack-Chest-XRay-Dataset/train/\",\n",
    "x_col=\"X_ray_image_name\",\n",
    "y_col=\"Label\",\n",
    "# subset=\"validation\",\n",
    "batch_size=32,\n",
    "seed=42,\n",
    "shuffle=True,\n",
    "class_mode=\"binary\",\n",
    "target_size=(32,32))\n",
    "\n"
   ]
  },
  {
   "cell_type": "code",
   "execution_count": 331,
   "metadata": {},
   "outputs": [
    {
     "name": "stdout",
     "output_type": "stream",
     "text": [
      "Model: \"sequential_17\"\n",
      "_________________________________________________________________\n",
      "Layer (type)                 Output Shape              Param #   \n",
      "=================================================================\n",
      "conv2d_57 (Conv2D)           (None, 32, 32, 32)        896       \n",
      "_________________________________________________________________\n",
      "activation_66 (Activation)   (None, 32, 32, 32)        0         \n",
      "_________________________________________________________________\n",
      "conv2d_58 (Conv2D)           (None, 30, 30, 32)        9248      \n",
      "_________________________________________________________________\n",
      "activation_67 (Activation)   (None, 30, 30, 32)        0         \n",
      "_________________________________________________________________\n",
      "max_pooling2d_31 (MaxPooling (None, 15, 15, 32)        0         \n",
      "_________________________________________________________________\n",
      "dropout_40 (Dropout)         (None, 15, 15, 32)        0         \n",
      "_________________________________________________________________\n",
      "conv2d_59 (Conv2D)           (None, 15, 15, 64)        18496     \n",
      "_________________________________________________________________\n",
      "activation_68 (Activation)   (None, 15, 15, 64)        0         \n",
      "_________________________________________________________________\n",
      "conv2d_60 (Conv2D)           (None, 13, 13, 64)        36928     \n",
      "_________________________________________________________________\n",
      "activation_69 (Activation)   (None, 13, 13, 64)        0         \n",
      "_________________________________________________________________\n",
      "max_pooling2d_32 (MaxPooling (None, 6, 6, 64)          0         \n",
      "_________________________________________________________________\n",
      "dropout_41 (Dropout)         (None, 6, 6, 64)          0         \n",
      "_________________________________________________________________\n",
      "flatten_16 (Flatten)         (None, 2304)              0         \n",
      "_________________________________________________________________\n",
      "dense_31 (Dense)             (None, 512)               1180160   \n",
      "_________________________________________________________________\n",
      "activation_70 (Activation)   (None, 512)               0         \n",
      "_________________________________________________________________\n",
      "dropout_42 (Dropout)         (None, 512)               0         \n",
      "_________________________________________________________________\n",
      "dense_32 (Dense)             (None, 1)                 513       \n",
      "=================================================================\n",
      "Total params: 1,246,241\n",
      "Trainable params: 1,246,241\n",
      "Non-trainable params: 0\n",
      "_________________________________________________________________\n"
     ]
    }
   ],
   "source": [
    "from keras.metrics import *\n",
    "\n",
    "METRICS = [\n",
    "      BinaryAccuracy(name='accuracy'),\n",
    "      Precision(name='precision'),\n",
    "      Recall(name='recall'),\n",
    "      AUC(name='auc'),\n",
    "]\n",
    "\n",
    "balanced_model = Sequential()\n",
    "balanced_model.add(Conv2D(32, (3, 3), padding='same',\n",
    "                 input_shape=(32,32,3)))\n",
    "balanced_model.add(Activation('relu'))\n",
    "balanced_model.add(Conv2D(32, (3, 3)))\n",
    "balanced_model.add(Activation('relu'))\n",
    "balanced_model.add(MaxPooling2D(pool_size=(2, 2)))\n",
    "balanced_model.add(Dropout(0.25))\n",
    "balanced_model.add(Conv2D(64, (3, 3), padding='same'))\n",
    "balanced_model.add(Activation('relu'))\n",
    "balanced_model.add(Conv2D(64, (3, 3)))\n",
    "balanced_model.add(Activation('relu'))\n",
    "balanced_model.add(MaxPooling2D(pool_size=(2, 2)))\n",
    "balanced_model.add(Dropout(0.25))\n",
    "balanced_model.add(Flatten())\n",
    "balanced_model.add(Dense(512))\n",
    "balanced_model.add(Activation('relu'))\n",
    "balanced_model.add(Dropout(0.5))\n",
    "balanced_model.add(Dense(1, activation='sigmoid'))\n",
    "balanced_model.compile(optimizers.rmsprop(lr=0.0001, decay=1e-6),loss=\"binary_crossentropy\",metrics=METRICS)\n",
    "balanced_model.summary()"
   ]
  },
  {
   "cell_type": "code",
   "execution_count": 334,
   "metadata": {},
   "outputs": [
    {
     "name": "stdout",
     "output_type": "stream",
     "text": [
      "Epoch 1/30\n",
      "31/31 [==============================] - 82s 3s/step - loss: 0.4695 - accuracy: 0.8448 - precision: 0.0000e+00 - recall: 0.0000e+00 - auc: 0.4308 - val_loss: 0.6297 - val_accuracy: 0.7558 - val_precision: 0.0000e+00 - val_recall: 0.0000e+00 - val_auc: 0.4883\n",
      "Epoch 2/30\n",
      "31/31 [==============================] - 79s 3s/step - loss: 0.4577 - accuracy: 0.8470 - precision: 0.0000e+00 - recall: 0.0000e+00 - auc: 0.4953 - val_loss: 0.5912 - val_accuracy: 0.7558 - val_precision: 0.0000e+00 - val_recall: 0.0000e+00 - val_auc: 0.5895\n",
      "Epoch 3/30\n",
      "31/31 [==============================] - 76s 2s/step - loss: 0.4372 - accuracy: 0.8481 - precision: 0.0000e+00 - recall: 0.0000e+00 - auc: 0.5241 - val_loss: 0.4987 - val_accuracy: 0.7558 - val_precision: 0.0000e+00 - val_recall: 0.0000e+00 - val_auc: 0.5657\n",
      "Epoch 4/30\n",
      "31/31 [==============================] - 73s 2s/step - loss: 0.4380 - accuracy: 0.8427 - precision: 0.0000e+00 - recall: 0.0000e+00 - auc: 0.5822 - val_loss: 0.5335 - val_accuracy: 0.7558 - val_precision: 0.0000e+00 - val_recall: 0.0000e+00 - val_auc: 0.6925\n",
      "Epoch 5/30\n",
      "31/31 [==============================] - 69s 2s/step - loss: 0.4046 - accuracy: 0.8517 - precision: 0.0000e+00 - recall: 0.0000e+00 - auc: 0.6337 - val_loss: 0.5270 - val_accuracy: 0.7558 - val_precision: 0.0000e+00 - val_recall: 0.0000e+00 - val_auc: 0.7488\n",
      "Epoch 6/30\n",
      "31/31 [==============================] - 71s 2s/step - loss: 0.4108 - accuracy: 0.8405 - precision: 0.0000e+00 - recall: 0.0000e+00 - auc: 0.6711 - val_loss: 0.4933 - val_accuracy: 0.7849 - val_precision: 1.0000 - val_recall: 0.1190 - val_auc: 0.8126\n",
      "Epoch 7/30\n",
      "31/31 [==============================] - 67s 2s/step - loss: 0.3850 - accuracy: 0.8481 - precision: 1.0000 - recall: 0.0070 - auc: 0.7327 - val_loss: 0.4554 - val_accuracy: 0.8169 - val_precision: 1.0000 - val_recall: 0.2500 - val_auc: 0.8084\n",
      "Epoch 8/30\n",
      "31/31 [==============================] - 69s 2s/step - loss: 0.3649 - accuracy: 0.8513 - precision: 1.0000 - recall: 0.0417 - auc: 0.7672 - val_loss: 0.4580 - val_accuracy: 0.8110 - val_precision: 0.7317 - val_recall: 0.3571 - val_auc: 0.8232\n",
      "Epoch 9/30\n",
      "31/31 [==============================] - 62s 2s/step - loss: 0.3482 - accuracy: 0.8578 - precision: 0.9167 - recall: 0.0775 - auc: 0.7984 - val_loss: 0.5926 - val_accuracy: 0.8110 - val_precision: 0.6267 - val_recall: 0.5595 - val_auc: 0.7964\n",
      "Epoch 10/30\n",
      "31/31 [==============================] - 74s 2s/step - loss: 0.3476 - accuracy: 0.8675 - precision: 0.8710 - recall: 0.1849 - auc: 0.8202 - val_loss: 0.3134 - val_accuracy: 0.8343 - val_precision: 0.7213 - val_recall: 0.5238 - val_auc: 0.8415\n",
      "Epoch 11/30\n",
      "31/31 [==============================] - 71s 2s/step - loss: 0.3336 - accuracy: 0.8708 - precision: 0.8571 - recall: 0.2041 - auc: 0.8054 - val_loss: 0.4886 - val_accuracy: 0.7936 - val_precision: 0.5575 - val_recall: 0.7500 - val_auc: 0.8378\n",
      "Epoch 12/30\n",
      "31/31 [==============================] - 76s 2s/step - loss: 0.3359 - accuracy: 0.8642 - precision: 0.7000 - recall: 0.1972 - auc: 0.8259 - val_loss: 0.4562 - val_accuracy: 0.8430 - val_precision: 0.6974 - val_recall: 0.6310 - val_auc: 0.8130\n",
      "Epoch 13/30\n",
      "31/31 [==============================] - 75s 2s/step - loss: 0.3057 - accuracy: 0.8882 - precision: 0.8654 - recall: 0.3214 - auc: 0.8510 - val_loss: 0.3117 - val_accuracy: 0.8895 - val_precision: 0.8485 - val_recall: 0.6667 - val_auc: 0.8715\n",
      "Epoch 14/30\n",
      "31/31 [==============================] - 72s 2s/step - loss: 0.3024 - accuracy: 0.8824 - precision: 0.8261 - recall: 0.2695 - auc: 0.8461 - val_loss: 0.4408 - val_accuracy: 0.8372 - val_precision: 0.6707 - val_recall: 0.6548 - val_auc: 0.8532\n",
      "Epoch 15/30\n",
      "31/31 [==============================] - 71s 2s/step - loss: 0.3117 - accuracy: 0.8793 - precision: 0.7869 - recall: 0.3265 - auc: 0.8421 - val_loss: 0.4659 - val_accuracy: 0.8401 - val_precision: 0.6933 - val_recall: 0.6190 - val_auc: 0.8659\n",
      "Epoch 16/30\n",
      "31/31 [==============================] - 71s 2s/step - loss: 0.3057 - accuracy: 0.8890 - precision: 0.8000 - recall: 0.3662 - auc: 0.8443 - val_loss: 0.4154 - val_accuracy: 0.8547 - val_precision: 0.8542 - val_recall: 0.4881 - val_auc: 0.8599\n",
      "Epoch 17/30\n",
      "31/31 [==============================] - 64s 2s/step - loss: 0.3034 - accuracy: 0.8912 - precision: 0.7917 - recall: 0.3986 - auc: 0.8591 - val_loss: 0.4269 - val_accuracy: 0.8779 - val_precision: 0.8088 - val_recall: 0.6548 - val_auc: 0.8673\n",
      "Epoch 18/30\n",
      "31/31 [==============================] - 78s 3s/step - loss: 0.3011 - accuracy: 0.8933 - precision: 0.8485 - recall: 0.3862 - auc: 0.8436 - val_loss: 0.5081 - val_accuracy: 0.8692 - val_precision: 0.7407 - val_recall: 0.7143 - val_auc: 0.8709\n",
      "Epoch 19/30\n",
      "31/31 [==============================] - 77s 2s/step - loss: 0.2663 - accuracy: 0.9078 - precision: 0.8873 - recall: 0.4437 - auc: 0.8723 - val_loss: 0.4106 - val_accuracy: 0.8372 - val_precision: 0.6346 - val_recall: 0.7857 - val_auc: 0.8736\n",
      "Epoch 20/30\n",
      "31/31 [==============================] - 77s 2s/step - loss: 0.2812 - accuracy: 0.9127 - precision: 0.9189 - recall: 0.4755 - auc: 0.8549 - val_loss: 0.2257 - val_accuracy: 0.8779 - val_precision: 0.8621 - val_recall: 0.5952 - val_auc: 0.8653\n",
      "Epoch 21/30\n",
      "31/31 [==============================] - 78s 3s/step - loss: 0.2913 - accuracy: 0.9019 - precision: 0.8611 - recall: 0.4336 - auc: 0.8514 - val_loss: 0.3387 - val_accuracy: 0.8663 - val_precision: 0.7209 - val_recall: 0.7381 - val_auc: 0.8765\n",
      "Epoch 22/30\n",
      "31/31 [==============================] - 73s 2s/step - loss: 0.2631 - accuracy: 0.9052 - precision: 0.8354 - recall: 0.4681 - auc: 0.8867 - val_loss: 0.3575 - val_accuracy: 0.8605 - val_precision: 0.7647 - val_recall: 0.6190 - val_auc: 0.8669\n",
      "Epoch 23/30\n",
      "31/31 [==============================] - 71s 2s/step - loss: 0.2760 - accuracy: 0.8980 - precision: 0.8125 - recall: 0.4545 - auc: 0.8760 - val_loss: 0.3023 - val_accuracy: 0.8634 - val_precision: 0.7846 - val_recall: 0.6071 - val_auc: 0.8785\n",
      "Epoch 24/30\n",
      "31/31 [==============================] - 71s 2s/step - loss: 0.2737 - accuracy: 0.9068 - precision: 0.8242 - recall: 0.5102 - auc: 0.8697 - val_loss: 0.2652 - val_accuracy: 0.8634 - val_precision: 0.7403 - val_recall: 0.6786 - val_auc: 0.8756\n",
      "Epoch 25/30\n",
      "31/31 [==============================] - 67s 2s/step - loss: 0.2734 - accuracy: 0.9084 - precision: 0.8605 - recall: 0.5034 - auc: 0.8765 - val_loss: 0.5113 - val_accuracy: 0.8663 - val_precision: 0.6979 - val_recall: 0.7976 - val_auc: 0.8918\n",
      "Epoch 26/30\n",
      "31/31 [==============================] - 82s 3s/step - loss: 0.2624 - accuracy: 0.9106 - precision: 0.8375 - recall: 0.4891 - auc: 0.8860 - val_loss: 0.5676 - val_accuracy: 0.8663 - val_precision: 0.8065 - val_recall: 0.5952 - val_auc: 0.8864\n",
      "Epoch 27/30\n",
      "31/31 [==============================] - 76s 2s/step - loss: 0.2548 - accuracy: 0.9127 - precision: 0.8721 - recall: 0.5172 - auc: 0.8914 - val_loss: 0.2488 - val_accuracy: 0.8779 - val_precision: 0.8889 - val_recall: 0.5714 - val_auc: 0.8920\n",
      "Epoch 28/30\n",
      "31/31 [==============================] - 70s 2s/step - loss: 0.2537 - accuracy: 0.9041 - precision: 0.8256 - recall: 0.4897 - auc: 0.9046 - val_loss: 0.2121 - val_accuracy: 0.8983 - val_precision: 0.8356 - val_recall: 0.7262 - val_auc: 0.8891\n",
      "Epoch 29/30\n",
      "31/31 [==============================] - 68s 2s/step - loss: 0.2400 - accuracy: 0.9174 - precision: 0.8736 - recall: 0.5315 - auc: 0.8977 - val_loss: 0.3954 - val_accuracy: 0.8488 - val_precision: 0.8636 - val_recall: 0.4524 - val_auc: 0.8962\n",
      "Epoch 30/30\n",
      "31/31 [==============================] - 69s 2s/step - loss: 0.2554 - accuracy: 0.9246 - precision: 0.9195 - recall: 0.5594 - auc: 0.8732 - val_loss: 0.2209 - val_accuracy: 0.9012 - val_precision: 0.7976 - val_recall: 0.7976 - val_auc: 0.9087\n"
     ]
    },
    {
     "data": {
      "text/plain": [
       "<keras.callbacks.callbacks.History at 0x1edc6484dc8>"
      ]
     },
     "execution_count": 334,
     "metadata": {},
     "output_type": "execute_result"
    }
   ],
   "source": [
    "balanced_model.fit_generator(generator=train_generator,\n",
    "                    steps_per_epoch=STEP_SIZE_TRAIN,\n",
    "                    validation_data=valid_generator,\n",
    "                    validation_steps=STEP_SIZE_VALID,\n",
    "                    epochs=30\n",
    ")"
   ]
  },
  {
   "cell_type": "markdown",
   "metadata": {},
   "source": [
    "## Prediction on Test Set"
   ]
  },
  {
   "cell_type": "code",
   "execution_count": null,
   "metadata": {},
   "outputs": [],
   "source": [
    "# Predict the model on test set\n",
    "test_generator.reset()\n",
    "pred=balanced_model.predict_generator(test_generator,\n",
    "steps=STEP_SIZE_TEST+1,\n",
    "verbose=1)\n",
    "\n",
    "# change the array to 0,1\n",
    "predicted_class_indices=np.argmax(pred,axis=1)\n",
    "\n",
    "# Extract filename and classes from test data\n",
    "filenames=test_generator.filenames\n",
    "classes = test_generator.classes\n",
    "\n",
    "# create actual and predicted data frame\n",
    "Actuals = pd.DataFrame({\"Filename\":filenames,\n",
    "                     \"Class\":classes})\n",
    "\n",
    "Results=pd.DataFrame({\"Filename\":filenames,\n",
    "                      \"Predictions\":predicted_class_indices}\n",
    "                     )\n",
    "# convert actual and predict df to list for evaluation\n",
    "Act_Cat = Actuals['Class'].values.tolist()\n",
    "Pred_Cat = Results['Predictions'].values.tolist()"
   ]
  },
  {
   "cell_type": "code",
   "execution_count": 354,
   "metadata": {},
   "outputs": [
    {
     "data": {
      "text/plain": [
       "0    624\n",
       "Name: Predictions, dtype: int64"
      ]
     },
     "execution_count": 354,
     "metadata": {},
     "output_type": "execute_result"
    }
   ],
   "source": [
    "Actuals.Class.value_counts()\n",
    "Results.Predictions.value_counts()"
   ]
  },
  {
   "cell_type": "code",
   "execution_count": 355,
   "metadata": {},
   "outputs": [],
   "source": [
    "Act_Cat = Actuals['Class'].values.tolist()\n",
    "Pred_Cat = Results['Predictions'].values.tolist()"
   ]
  },
  {
   "cell_type": "code",
   "execution_count": 356,
   "metadata": {},
   "outputs": [
    {
     "name": "stdout",
     "output_type": "stream",
     "text": [
      "[[234   0]\n",
      " [390   0]]\n"
     ]
    }
   ],
   "source": [
    "# Evaluate the model to get the corresponding Accuracy, Precision, and Recall\n",
    "from sklearn.metrics import confusion_matrix, classification_report, accuracy_score\n",
    "\n",
    "CM =confusion_matrix(Act_Cat,Pred_Cat)\n",
    "# print(\"Confusion Matrix :\")\n",
    "print(CM)\n",
    "\n"
   ]
  },
  {
   "cell_type": "code",
   "execution_count": 357,
   "metadata": {},
   "outputs": [],
   "source": [
    "# labels = (train_generator.class_indices)\n",
    "# labels = dict((v,k) for k,v in labels.items())\n",
    "# # predictions = [labels[k] for k in predicted_class_indices]"
   ]
  },
  {
   "cell_type": "markdown",
   "metadata": {},
   "source": [
    "# TRANSFER LEARNING\n",
    "### Build a Fine-Tuned VGG16 model"
   ]
  },
  {
   "cell_type": "code",
   "execution_count": 430,
   "metadata": {},
   "outputs": [],
   "source": [
    "from keras.applications.vgg16 import VGG16\n",
    "from keras.preprocessing import image\n",
    "from keras.applications.vgg16 import preprocess_input\n",
    "from keras.models import Sequential, Model \n",
    "from keras.layers import Dropout, Flatten, Dense\n",
    "\n",
    "import numpy as np"
   ]
  },
  {
   "cell_type": "code",
   "execution_count": 445,
   "metadata": {},
   "outputs": [],
   "source": [
    "img_width, img_height = 64, 64\n",
    "vgg16 = VGG16(include_top=False, weights=None, input_shape=(img_width, img_height, 3))"
   ]
  },
  {
   "cell_type": "code",
   "execution_count": 446,
   "metadata": {},
   "outputs": [
    {
     "name": "stdout",
     "output_type": "stream",
     "text": [
      "Model: \"vgg16\"\n",
      "_________________________________________________________________\n",
      "Layer (type)                 Output Shape              Param #   \n",
      "=================================================================\n",
      "input_7 (InputLayer)         (None, 64, 64, 3)         0         \n",
      "_________________________________________________________________\n",
      "block1_conv1 (Conv2D)        (None, 64, 64, 64)        1792      \n",
      "_________________________________________________________________\n",
      "block1_conv2 (Conv2D)        (None, 64, 64, 64)        36928     \n",
      "_________________________________________________________________\n",
      "block1_pool (MaxPooling2D)   (None, 32, 32, 64)        0         \n",
      "_________________________________________________________________\n",
      "block2_conv1 (Conv2D)        (None, 32, 32, 128)       73856     \n",
      "_________________________________________________________________\n",
      "block2_conv2 (Conv2D)        (None, 32, 32, 128)       147584    \n",
      "_________________________________________________________________\n",
      "block2_pool (MaxPooling2D)   (None, 16, 16, 128)       0         \n",
      "_________________________________________________________________\n",
      "block3_conv1 (Conv2D)        (None, 16, 16, 256)       295168    \n",
      "_________________________________________________________________\n",
      "block3_conv2 (Conv2D)        (None, 16, 16, 256)       590080    \n",
      "_________________________________________________________________\n",
      "block3_conv3 (Conv2D)        (None, 16, 16, 256)       590080    \n",
      "_________________________________________________________________\n",
      "block3_pool (MaxPooling2D)   (None, 8, 8, 256)         0         \n",
      "_________________________________________________________________\n",
      "block4_conv1 (Conv2D)        (None, 8, 8, 512)         1180160   \n",
      "_________________________________________________________________\n",
      "block4_conv2 (Conv2D)        (None, 8, 8, 512)         2359808   \n",
      "_________________________________________________________________\n",
      "block4_conv3 (Conv2D)        (None, 8, 8, 512)         2359808   \n",
      "_________________________________________________________________\n",
      "block4_pool (MaxPooling2D)   (None, 4, 4, 512)         0         \n",
      "_________________________________________________________________\n",
      "block5_conv1 (Conv2D)        (None, 4, 4, 512)         2359808   \n",
      "_________________________________________________________________\n",
      "block5_conv2 (Conv2D)        (None, 4, 4, 512)         2359808   \n",
      "_________________________________________________________________\n",
      "block5_conv3 (Conv2D)        (None, 4, 4, 512)         2359808   \n",
      "_________________________________________________________________\n",
      "block5_pool (MaxPooling2D)   (None, 2, 2, 512)         0         \n",
      "=================================================================\n",
      "Total params: 14,714,688\n",
      "Trainable params: 14,714,688\n",
      "Non-trainable params: 0\n",
      "_________________________________________________________________\n"
     ]
    }
   ],
   "source": [
    "vgg16.summary()"
   ]
  },
  {
   "cell_type": "code",
   "execution_count": 448,
   "metadata": {},
   "outputs": [
    {
     "name": "stdout",
     "output_type": "stream",
     "text": [
      "Model: \"model_10\"\n",
      "_________________________________________________________________\n",
      "Layer (type)                 Output Shape              Param #   \n",
      "=================================================================\n",
      "input_7 (InputLayer)         (None, 64, 64, 3)         0         \n",
      "_________________________________________________________________\n",
      "block1_conv1 (Conv2D)        (None, 64, 64, 64)        1792      \n",
      "_________________________________________________________________\n",
      "block1_conv2 (Conv2D)        (None, 64, 64, 64)        36928     \n",
      "_________________________________________________________________\n",
      "block1_pool (MaxPooling2D)   (None, 32, 32, 64)        0         \n",
      "_________________________________________________________________\n",
      "block2_conv1 (Conv2D)        (None, 32, 32, 128)       73856     \n",
      "_________________________________________________________________\n",
      "block2_conv2 (Conv2D)        (None, 32, 32, 128)       147584    \n",
      "_________________________________________________________________\n",
      "block2_pool (MaxPooling2D)   (None, 16, 16, 128)       0         \n",
      "_________________________________________________________________\n",
      "block3_conv1 (Conv2D)        (None, 16, 16, 256)       295168    \n",
      "_________________________________________________________________\n",
      "block3_conv2 (Conv2D)        (None, 16, 16, 256)       590080    \n",
      "_________________________________________________________________\n",
      "block3_conv3 (Conv2D)        (None, 16, 16, 256)       590080    \n",
      "_________________________________________________________________\n",
      "block3_pool (MaxPooling2D)   (None, 8, 8, 256)         0         \n",
      "_________________________________________________________________\n",
      "block4_conv1 (Conv2D)        (None, 8, 8, 512)         1180160   \n",
      "_________________________________________________________________\n",
      "block4_conv2 (Conv2D)        (None, 8, 8, 512)         2359808   \n",
      "_________________________________________________________________\n",
      "block4_conv3 (Conv2D)        (None, 8, 8, 512)         2359808   \n",
      "_________________________________________________________________\n",
      "block4_pool (MaxPooling2D)   (None, 4, 4, 512)         0         \n",
      "_________________________________________________________________\n",
      "block5_conv1 (Conv2D)        (None, 4, 4, 512)         2359808   \n",
      "_________________________________________________________________\n",
      "block5_conv2 (Conv2D)        (None, 4, 4, 512)         2359808   \n",
      "_________________________________________________________________\n",
      "block5_conv3 (Conv2D)        (None, 4, 4, 512)         2359808   \n",
      "_________________________________________________________________\n",
      "block5_pool (MaxPooling2D)   (None, 2, 2, 512)         0         \n",
      "_________________________________________________________________\n",
      "flatten (Flatten)            (None, 2048)              0         \n",
      "_________________________________________________________________\n",
      "predictions (Dense)          (None, 1)                 2049      \n",
      "=================================================================\n",
      "Total params: 14,716,737\n",
      "Trainable params: 2,361,857\n",
      "Non-trainable params: 12,354,880\n",
      "_________________________________________________________________\n"
     ]
    },
    {
     "name": "stderr",
     "output_type": "stream",
     "text": [
      "C:\\Users\\ksa\\Anaconda3\\lib\\site-packages\\ipykernel_launcher.py:12: UserWarning: Update your `Model` call to the Keras 2 API: `Model(inputs=Tensor(\"in..., outputs=Tensor(\"pr...)`\n",
      "  if sys.path[0] == '':\n"
     ]
    }
   ],
   "source": [
    "# use transfer learning for re-training the last layers\n",
    "# Freeze first 25 layers, so that we can retrain 26th and so on using our classes.\n",
    "for layer in vgg16.layers[:-2]:\n",
    "   layer.trainable = False\n",
    "\n",
    "#Add a layer where input is the output of the  second last layer \n",
    "Z = Flatten(name='flatten')(vgg16.layers[-1].output)\n",
    "New = Dense(1, activation='sigmoid', name='predictions')(Z)\n",
    "\n",
    "\n",
    "#Then create the corresponding model \n",
    "my_model = Model(input=vgg16.input, output=New)\n",
    "my_model.summary()"
   ]
  },
  {
   "cell_type": "code",
   "execution_count": 455,
   "metadata": {},
   "outputs": [],
   "source": [
    "from keras.metrics import *\n",
    "\n",
    "METRICS = [\n",
    "      BinaryAccuracy(name='accuracy'),\n",
    "      Precision(name='precision'),\n",
    "      Recall(name='recall'),\n",
    "      AUC(name='auc'),\n",
    "]\n",
    "# my_model.compile(loss = \"binary_crossentropy\", optimizer = optimizers.SGD(lr=0.0001, momentum=0.9), metrics=METRICS)\n",
    "my_model.compile(loss = \"binary_crossentropy\", optimizer = \"ADAM\", metrics=METRICS)"
   ]
  },
  {
   "cell_type": "code",
   "execution_count": 459,
   "metadata": {},
   "outputs": [
    {
     "name": "stdout",
     "output_type": "stream",
     "text": [
      "Found 1000 validated image filenames belonging to 2 classes.\n",
      "Found 400 validated image filenames belonging to 2 classes.\n",
      "Found 624 validated image filenames belonging to 2 classes.\n"
     ]
    }
   ],
   "source": [
    "img_width = 64\n",
    "img_height = 64\n",
    "\n",
    "train_generator=datagen.flow_from_dataframe(\n",
    "dataframe=df_train,\n",
    "directory=\"C:/Users/ksa/OneDrive - Delta Partners/Documents/coronahack-chest-xraydataset/Coronahack-Chest-XRay-Dataset/Coronahack-Chest-XRay-Dataset/train/\",\n",
    "x_col=\"X_ray_image_name\",\n",
    "y_col=\"Label\",\n",
    "# subset=\"training\",\n",
    "batch_size=32,\n",
    "seed=42,\n",
    "shuffle=True,\n",
    "class_mode=\"binary\",\n",
    "target_size=(img_width,img_height))\n",
    "\n",
    "\n",
    "valid_generator=datagen.flow_from_dataframe(\n",
    "dataframe=df_val,\n",
    "directory=\"C:/Users/ksa/OneDrive - Delta Partners/Documents/coronahack-chest-xraydataset/Coronahack-Chest-XRay-Dataset/Coronahack-Chest-XRay-Dataset/train/\",\n",
    "x_col=\"X_ray_image_name\",\n",
    "y_col=\"Label\",\n",
    "# subset=\"validation\",\n",
    "batch_size=32,\n",
    "seed=42,\n",
    "shuffle=True,\n",
    "class_mode=\"binary\",\n",
    "target_size=(img_width,img_height))\n",
    "\n",
    "test_generator=test_datagen.flow_from_dataframe(\n",
    "dataframe=df_test,\n",
    "directory=\"C:/Users/ksa/OneDrive - Delta Partners/Documents/coronahack-chest-xraydataset/Coronahack-Chest-XRay-Dataset/Coronahack-Chest-XRay-Dataset/test\",\n",
    "x_col=\"X_ray_image_name\",\n",
    "y_col=\"Label\",\n",
    "batch_size=32,\n",
    "seed=42,\n",
    "shuffle=False,\n",
    "class_mode=\"binary\",\n",
    "target_size=(img_width,img_height))\n",
    "\n"
   ]
  },
  {
   "cell_type": "code",
   "execution_count": 457,
   "metadata": {},
   "outputs": [
    {
     "name": "stdout",
     "output_type": "stream",
     "text": [
      "Epoch 1/30\n",
      "31/31 [==============================] - 62s 2s/step - loss: 0.2762 - accuracy: 0.9556 - precision: 0.0000e+00 - recall: 0.0000e+00 - auc: 0.4845 - val_loss: 0.1671 - val_accuracy: 0.9401 - val_precision: 0.0000e+00 - val_recall: 0.0000e+00 - val_auc: 0.4295\n",
      "Epoch 2/30\n",
      "31/31 [==============================] - 73s 2s/step - loss: 0.2092 - accuracy: 0.9638 - precision: 0.0000e+00 - recall: 0.0000e+00 - auc: 0.4054 - val_loss: 0.2373 - val_accuracy: 0.9429 - val_precision: 0.0000e+00 - val_recall: 0.0000e+00 - val_auc: 0.5477\n",
      "Epoch 3/30\n",
      "31/31 [==============================] - 76s 2s/step - loss: 0.1547 - accuracy: 0.9669 - precision: 0.0000e+00 - recall: 0.0000e+00 - auc: 0.5072 - val_loss: 0.2617 - val_accuracy: 0.9429 - val_precision: 0.0000e+00 - val_recall: 0.0000e+00 - val_auc: 0.5304\n",
      "Epoch 4/30\n",
      "31/31 [==============================] - 65s 2s/step - loss: 0.1858 - accuracy: 0.9607 - precision: 0.0000e+00 - recall: 0.0000e+00 - auc: 0.3735 - val_loss: 0.0438 - val_accuracy: 0.9511 - val_precision: 0.0000e+00 - val_recall: 0.0000e+00 - val_auc: 0.5806\n",
      "Epoch 5/30\n",
      "31/31 [==============================] - 66s 2s/step - loss: 0.1773 - accuracy: 0.9618 - precision: 0.0000e+00 - recall: 0.0000e+00 - auc: 0.4164 - val_loss: 0.1312 - val_accuracy: 0.9348 - val_precision: 0.0000e+00 - val_recall: 0.0000e+00 - val_auc: 0.4740\n",
      "Epoch 6/30\n",
      "31/31 [==============================] - 68s 2s/step - loss: 0.1587 - accuracy: 0.9659 - precision: 0.0000e+00 - recall: 0.0000e+00 - auc: 0.4639 - val_loss: 0.1447 - val_accuracy: 0.9484 - val_precision: 0.0000e+00 - val_recall: 0.0000e+00 - val_auc: 0.3720\n",
      "Epoch 7/30\n",
      "31/31 [==============================] - 66s 2s/step - loss: 0.1379 - accuracy: 0.9721 - precision: 0.0000e+00 - recall: 0.0000e+00 - auc: 0.3821 - val_loss: 0.2321 - val_accuracy: 0.9375 - val_precision: 0.0000e+00 - val_recall: 0.0000e+00 - val_auc: 0.5888\n",
      "Epoch 8/30\n",
      "31/31 [==============================] - 64s 2s/step - loss: 0.1744 - accuracy: 0.9638 - precision: 0.0000e+00 - recall: 0.0000e+00 - auc: 0.5177 - val_loss: 0.2684 - val_accuracy: 0.9484 - val_precision: 0.0000e+00 - val_recall: 0.0000e+00 - val_auc: 0.5343\n",
      "Epoch 9/30\n",
      "31/31 [==============================] - 62s 2s/step - loss: 0.1753 - accuracy: 0.9618 - precision: 0.0000e+00 - recall: 0.0000e+00 - auc: 0.4709 - val_loss: 0.1469 - val_accuracy: 0.9348 - val_precision: 0.0000e+00 - val_recall: 0.0000e+00 - val_auc: 0.6280\n",
      "Epoch 10/30\n",
      "31/31 [==============================] - 71s 2s/step - loss: 0.1375 - accuracy: 0.9698 - precision: 0.0000e+00 - recall: 0.0000e+00 - auc: 0.5085 - val_loss: 0.5521 - val_accuracy: 0.9293 - val_precision: 0.0000e+00 - val_recall: 0.0000e+00 - val_auc: 0.6188\n",
      "Epoch 11/30\n",
      "31/31 [==============================] - 61s 2s/step - loss: 0.1626 - accuracy: 0.9629 - precision: 0.0000e+00 - recall: 0.0000e+00 - auc: 0.5380 - val_loss: 0.2600 - val_accuracy: 0.9592 - val_precision: 0.0000e+00 - val_recall: 0.0000e+00 - val_auc: 0.6216\n",
      "Epoch 12/30\n",
      "31/31 [==============================] - 63s 2s/step - loss: 0.1464 - accuracy: 0.9669 - precision: 0.0000e+00 - recall: 0.0000e+00 - auc: 0.4890 - val_loss: 0.1285 - val_accuracy: 0.9429 - val_precision: 0.0000e+00 - val_recall: 0.0000e+00 - val_auc: 0.6538\n",
      "Epoch 13/30\n",
      "31/31 [==============================] - 62s 2s/step - loss: 0.1588 - accuracy: 0.9627 - precision: 0.0000e+00 - recall: 0.0000e+00 - auc: 0.5649 - val_loss: 0.4253 - val_accuracy: 0.9402 - val_precision: 0.0000e+00 - val_recall: 0.0000e+00 - val_auc: 0.7834\n",
      "Epoch 14/30\n",
      "31/31 [==============================] - 64s 2s/step - loss: 0.1555 - accuracy: 0.9618 - precision: 0.0000e+00 - recall: 0.0000e+00 - auc: 0.6270 - val_loss: 0.5172 - val_accuracy: 0.9401 - val_precision: 0.0000e+00 - val_recall: 0.0000e+00 - val_auc: 0.9117\n",
      "Epoch 15/30\n",
      "31/31 [==============================] - 74s 2s/step - loss: 0.1391 - accuracy: 0.9669 - precision: 0.0000e+00 - recall: 0.0000e+00 - auc: 0.6483 - val_loss: 0.0370 - val_accuracy: 0.9457 - val_precision: 0.0000e+00 - val_recall: 0.0000e+00 - val_auc: 0.8863\n",
      "Epoch 16/30\n",
      "31/31 [==============================] - 74s 2s/step - loss: 0.1434 - accuracy: 0.9672 - precision: 0.0000e+00 - recall: 0.0000e+00 - auc: 0.6472 - val_loss: 0.2333 - val_accuracy: 0.9457 - val_precision: 0.0000e+00 - val_recall: 0.0000e+00 - val_auc: 0.9125\n",
      "Epoch 17/30\n",
      "31/31 [==============================] - 60s 2s/step - loss: 0.1466 - accuracy: 0.9657 - precision: 0.0000e+00 - recall: 0.0000e+00 - auc: 0.6217 - val_loss: 0.0195 - val_accuracy: 0.9484 - val_precision: 0.0000e+00 - val_recall: 0.0000e+00 - val_auc: 0.8392\n",
      "Epoch 18/30\n",
      "31/31 [==============================] - 68s 2s/step - loss: 0.1496 - accuracy: 0.9618 - precision: 0.0000e+00 - recall: 0.0000e+00 - auc: 0.7537 - val_loss: 0.1438 - val_accuracy: 0.9402 - val_precision: 0.0000e+00 - val_recall: 0.0000e+00 - val_auc: 0.8971\n",
      "Epoch 19/30\n",
      "31/31 [==============================] - 68s 2s/step - loss: 0.1493 - accuracy: 0.9638 - precision: 0.0000e+00 - recall: 0.0000e+00 - auc: 0.6219 - val_loss: 0.3000 - val_accuracy: 0.9402 - val_precision: 0.0000e+00 - val_recall: 0.0000e+00 - val_auc: 0.8646\n",
      "Epoch 20/30\n",
      "31/31 [==============================] - 61s 2s/step - loss: 0.1643 - accuracy: 0.9619 - precision: 0.0000e+00 - recall: 0.0000e+00 - auc: 0.6858 - val_loss: 0.1494 - val_accuracy: 0.9429 - val_precision: 0.0000e+00 - val_recall: 0.0000e+00 - val_auc: 0.6833\n",
      "Epoch 21/30\n",
      "31/31 [==============================] - 56s 2s/step - loss: 0.1423 - accuracy: 0.9677 - precision: 0.0000e+00 - recall: 0.0000e+00 - auc: 0.5993 - val_loss: 0.1187 - val_accuracy: 0.9375 - val_precision: 0.0000e+00 - val_recall: 0.0000e+00 - val_auc: 0.9167\n",
      "Epoch 22/30\n",
      "31/31 [==============================] - 63s 2s/step - loss: 0.1471 - accuracy: 0.9638 - precision: 0.0000e+00 - recall: 0.0000e+00 - auc: 0.6747 - val_loss: 0.1228 - val_accuracy: 0.9348 - val_precision: 0.0000e+00 - val_recall: 0.0000e+00 - val_auc: 0.8782\n",
      "Epoch 23/30\n",
      "31/31 [==============================] - 66s 2s/step - loss: 0.1438 - accuracy: 0.9638 - precision: 0.0000e+00 - recall: 0.0000e+00 - auc: 0.6894 - val_loss: 0.2191 - val_accuracy: 0.9538 - val_precision: 0.0000e+00 - val_recall: 0.0000e+00 - val_auc: 0.8212\n",
      "Epoch 24/30\n",
      "31/31 [==============================] - 66s 2s/step - loss: 0.1156 - accuracy: 0.9721 - precision: 0.0000e+00 - recall: 0.0000e+00 - auc: 0.7372 - val_loss: 0.2463 - val_accuracy: 0.9348 - val_precision: 0.0000e+00 - val_recall: 0.0000e+00 - val_auc: 0.8038\n",
      "Epoch 25/30\n",
      "31/31 [==============================] - 65s 2s/step - loss: 0.1416 - accuracy: 0.9628 - precision: 0.0000e+00 - recall: 0.0000e+00 - auc: 0.7477 - val_loss: 0.0301 - val_accuracy: 0.9511 - val_precision: 0.0000e+00 - val_recall: 0.0000e+00 - val_auc: 0.8096\n",
      "Epoch 26/30\n",
      "31/31 [==============================] - 64s 2s/step - loss: 0.1399 - accuracy: 0.9659 - precision: 0.0000e+00 - recall: 0.0000e+00 - auc: 0.7575 - val_loss: 0.0226 - val_accuracy: 0.9375 - val_precision: 0.0000e+00 - val_recall: 0.0000e+00 - val_auc: 0.8735\n",
      "Epoch 27/30\n",
      "31/31 [==============================] - 65s 2s/step - loss: 0.1466 - accuracy: 0.9607 - precision: 0.0000e+00 - recall: 0.0000e+00 - auc: 0.8163 - val_loss: 0.0316 - val_accuracy: 0.9531 - val_precision: 0.0000e+00 - val_recall: 0.0000e+00 - val_auc: 0.7551\n",
      "Epoch 28/30\n",
      "31/31 [==============================] - 75s 2s/step - loss: 0.1375 - accuracy: 0.9669 - precision: 0.0000e+00 - recall: 0.0000e+00 - auc: 0.7245 - val_loss: 0.3259 - val_accuracy: 0.9266 - val_precision: 0.0000e+00 - val_recall: 0.0000e+00 - val_auc: 0.9147\n",
      "Epoch 29/30\n",
      "31/31 [==============================] - 65s 2s/step - loss: 0.1435 - accuracy: 0.9628 - precision: 0.0000e+00 - recall: 0.0000e+00 - auc: 0.7156 - val_loss: 0.2421 - val_accuracy: 0.9457 - val_precision: 0.0000e+00 - val_recall: 0.0000e+00 - val_auc: 0.8705\n",
      "Epoch 30/30\n",
      "31/31 [==============================] - 67s 2s/step - loss: 0.1229 - accuracy: 0.9690 - precision: 0.0000e+00 - recall: 0.0000e+00 - auc: 0.7410 - val_loss: 0.2570 - val_accuracy: 0.9429 - val_precision: 0.0000e+00 - val_recall: 0.0000e+00 - val_auc: 0.9393\n"
     ]
    },
    {
     "data": {
      "text/plain": [
       "<keras.callbacks.callbacks.History at 0x1ee05746e48>"
      ]
     },
     "execution_count": 457,
     "metadata": {},
     "output_type": "execute_result"
    }
   ],
   "source": [
    "my_model.fit_generator(generator=train_generator,\n",
    "                    steps_per_epoch=STEP_SIZE_TRAIN,\n",
    "                    validation_data=valid_generator,\n",
    "                    validation_steps=STEP_SIZE_VALID,\n",
    "                    epochs=30\n",
    ")"
   ]
  },
  {
   "cell_type": "code",
   "execution_count": 460,
   "metadata": {},
   "outputs": [
    {
     "name": "stdout",
     "output_type": "stream",
     "text": [
      "20/20 [==============================] - 18s 914ms/step\n"
     ]
    }
   ],
   "source": [
    "# Predict the model on test set\n",
    "test_generator.reset()\n",
    "pred=my_model.predict_generator(test_generator,\n",
    "steps=STEP_SIZE_TEST+1,\n",
    "verbose=1)\n",
    "\n",
    "# change the array to 0,1\n",
    "predicted_class_indices=np.argmax(pred,axis=1)\n",
    "\n",
    "# Extract filename and classes from test data\n",
    "filenames=test_generator.filenames\n",
    "classes = test_generator.classes\n",
    "\n",
    "# create actual and predicted data frame\n",
    "Actuals = pd.DataFrame({\"Filename\":filenames,\n",
    "                     \"Class\":classes})\n",
    "\n",
    "Results=pd.DataFrame({\"Filename\":filenames,\n",
    "                      \"Predictions\":predicted_class_indices}\n",
    "                     )\n",
    "# convert actual and predict df to list for evaluation\n",
    "Act_Cat = Actuals['Class'].values.tolist()\n",
    "Pred_Cat = Results['Predictions'].values.tolist()"
   ]
  },
  {
   "cell_type": "code",
   "execution_count": 461,
   "metadata": {},
   "outputs": [
    {
     "name": "stdout",
     "output_type": "stream",
     "text": [
      "[[234   0]\n",
      " [390   0]]\n"
     ]
    }
   ],
   "source": [
    "# Evaluate the model to get the corresponding Accuracy, Precision, and Recall\n",
    "from sklearn.metrics import confusion_matrix, classification_report, accuracy_score\n",
    "\n",
    "CM =confusion_matrix(Act_Cat,Pred_Cat)\n",
    "# print(\"Confusion Matrix :\")\n",
    "print(CM)\n",
    "\n"
   ]
  }
 ],
 "metadata": {
  "kernelspec": {
   "display_name": "Python 3",
   "language": "python",
   "name": "python3"
  },
  "language_info": {
   "codemirror_mode": {
    "name": "ipython",
    "version": 3
   },
   "file_extension": ".py",
   "mimetype": "text/x-python",
   "name": "python",
   "nbconvert_exporter": "python",
   "pygments_lexer": "ipython3",
   "version": "3.7.6"
  }
 },
 "nbformat": 4,
 "nbformat_minor": 4
}
